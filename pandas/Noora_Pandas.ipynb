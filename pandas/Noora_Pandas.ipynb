{
 "cells": [
  {
   "cell_type": "code",
   "execution_count": 1,
   "id": "099a2a60",
   "metadata": {},
   "outputs": [],
   "source": [
    "import pandas as pd\n",
    "import numpy as np"
   ]
  },
  {
   "cell_type": "code",
   "execution_count": 2,
   "id": "f1262b4c",
   "metadata": {},
   "outputs": [],
   "source": [
    "x=['Name', 'Age', 'Degree']\n",
    "y=['Noora', 21, 'BE']"
   ]
  },
  {
   "cell_type": "code",
   "execution_count": 3,
   "id": "b7b0225b",
   "metadata": {},
   "outputs": [],
   "source": [
    "a1=pd.Series(data=y,index=x)"
   ]
  },
  {
   "cell_type": "code",
   "execution_count": 4,
   "id": "4badeec2",
   "metadata": {},
   "outputs": [
    {
     "data": {
      "text/plain": [
       "Name      Noora\n",
       "Age          21\n",
       "Degree       BE\n",
       "dtype: object"
      ]
     },
     "execution_count": 4,
     "metadata": {},
     "output_type": "execute_result"
    }
   ],
   "source": [
    "a1"
   ]
  },
  {
   "cell_type": "code",
   "execution_count": 5,
   "id": "43e0cf5b",
   "metadata": {},
   "outputs": [
    {
     "data": {
      "text/plain": [
       "array(['Noora', 21, 'BE'], dtype=object)"
      ]
     },
     "execution_count": 5,
     "metadata": {},
     "output_type": "execute_result"
    }
   ],
   "source": [
    "a1.values"
   ]
  },
  {
   "cell_type": "code",
   "execution_count": 6,
   "id": "4535b0d8",
   "metadata": {},
   "outputs": [
    {
     "data": {
      "text/plain": [
       "'Noora'"
      ]
     },
     "execution_count": 6,
     "metadata": {},
     "output_type": "execute_result"
    }
   ],
   "source": [
    "a1[0]"
   ]
  },
  {
   "cell_type": "code",
   "execution_count": 7,
   "id": "98508d18",
   "metadata": {},
   "outputs": [
    {
     "data": {
      "text/plain": [
       "Name      Noora\n",
       "Age          21\n",
       "Degree       BE\n",
       "dtype: object"
      ]
     },
     "execution_count": 7,
     "metadata": {},
     "output_type": "execute_result"
    }
   ],
   "source": [
    "a1[:3]"
   ]
  },
  {
   "cell_type": "code",
   "execution_count": 8,
   "id": "4ea487b1",
   "metadata": {},
   "outputs": [
    {
     "data": {
      "text/plain": [
       "Name    Noora\n",
       "Age        21\n",
       "dtype: object"
      ]
     },
     "execution_count": 8,
     "metadata": {},
     "output_type": "execute_result"
    }
   ],
   "source": [
    "a1[:2]"
   ]
  },
  {
   "cell_type": "code",
   "execution_count": 9,
   "id": "f076e65d",
   "metadata": {},
   "outputs": [
    {
     "data": {
      "text/plain": [
       "<PandasArray>\n",
       "[1, 2, 3, 4, 5, 6]\n",
       "Length: 6, dtype: int64"
      ]
     },
     "execution_count": 9,
     "metadata": {},
     "output_type": "execute_result"
    }
   ],
   "source": [
    "pd.Series([1,2,3,4,5,6]).array"
   ]
  },
  {
   "cell_type": "code",
   "execution_count": 10,
   "id": "22986f4b",
   "metadata": {},
   "outputs": [
    {
     "data": {
      "text/plain": [
       "{'Name': 'Noora', 'Age': 21, 'Degree': 'BE'}"
      ]
     },
     "execution_count": 10,
     "metadata": {},
     "output_type": "execute_result"
    }
   ],
   "source": [
    "{i:j for i,j in zip(x,y)}"
   ]
  },
  {
   "cell_type": "code",
   "execution_count": 11,
   "id": "f418ed03",
   "metadata": {},
   "outputs": [
    {
     "data": {
      "text/plain": [
       "array([2, 4, 6, 8], dtype=int64)"
      ]
     },
     "execution_count": 11,
     "metadata": {},
     "output_type": "execute_result"
    }
   ],
   "source": [
    "pd.Series([2,4,6,8]).values"
   ]
  },
  {
   "cell_type": "code",
   "execution_count": 12,
   "id": "43a79b5e",
   "metadata": {},
   "outputs": [],
   "source": [
    "ab=pd.Series([1,2,3,4,5,6,7,8])"
   ]
  },
  {
   "cell_type": "code",
   "execution_count": 13,
   "id": "1c7f0492",
   "metadata": {},
   "outputs": [
    {
     "data": {
      "text/plain": [
       "0    1\n",
       "1    2\n",
       "2    3\n",
       "3    4\n",
       "4    5\n",
       "5    6\n",
       "6    7\n",
       "7    8\n",
       "dtype: int64"
      ]
     },
     "execution_count": 13,
     "metadata": {},
     "output_type": "execute_result"
    }
   ],
   "source": [
    "ab"
   ]
  },
  {
   "cell_type": "code",
   "execution_count": 14,
   "id": "8dd2b0c9",
   "metadata": {},
   "outputs": [
    {
     "data": {
      "text/plain": [
       "0    1\n",
       "1    2\n",
       "2    3\n",
       "3    4\n",
       "4    5\n",
       "5    6\n",
       "6    7\n",
       "7    8\n",
       "dtype: int64"
      ]
     },
     "execution_count": 14,
     "metadata": {},
     "output_type": "execute_result"
    }
   ],
   "source": [
    "ab.astype('int64')"
   ]
  },
  {
   "cell_type": "code",
   "execution_count": 15,
   "id": "7ab355fc",
   "metadata": {},
   "outputs": [],
   "source": [
    "cd=pd.Series(index=['Name','USN','College'], data=['Sana','4GL18CS028', 'GECK'])"
   ]
  },
  {
   "cell_type": "code",
   "execution_count": 16,
   "id": "f7135848",
   "metadata": {},
   "outputs": [
    {
     "data": {
      "text/plain": [
       "Name             Sana\n",
       "USN        4GL18CS028\n",
       "College          GECK\n",
       "dtype: object"
      ]
     },
     "execution_count": 16,
     "metadata": {},
     "output_type": "execute_result"
    }
   ],
   "source": [
    "cd"
   ]
  },
  {
   "cell_type": "code",
   "execution_count": 17,
   "id": "5f49ecf7",
   "metadata": {},
   "outputs": [
    {
     "data": {
      "text/plain": [
       "'4GL18CS028'"
      ]
     },
     "execution_count": 17,
     "metadata": {},
     "output_type": "execute_result"
    }
   ],
   "source": [
    "cd.loc['USN']"
   ]
  },
  {
   "cell_type": "code",
   "execution_count": 18,
   "id": "79802a61",
   "metadata": {},
   "outputs": [],
   "source": [
    "ef=pd.Series([i for i in range(7)], index=[8,4,7,9,1,3,5])"
   ]
  },
  {
   "cell_type": "code",
   "execution_count": 19,
   "id": "0d8b7434",
   "metadata": {},
   "outputs": [
    {
     "data": {
      "text/plain": [
       "5    6\n",
       "3    5\n",
       "1    4\n",
       "9    3\n",
       "7    2\n",
       "4    1\n",
       "8    0\n",
       "dtype: int64"
      ]
     },
     "execution_count": 19,
     "metadata": {},
     "output_type": "execute_result"
    }
   ],
   "source": [
    "ef.sort_values(ascending=False)"
   ]
  },
  {
   "cell_type": "code",
   "execution_count": 20,
   "id": "1a8a055f",
   "metadata": {},
   "outputs": [],
   "source": [
    "ef.sort_index(inplace=True)"
   ]
  },
  {
   "cell_type": "code",
   "execution_count": 21,
   "id": "1790a0e5",
   "metadata": {},
   "outputs": [
    {
     "data": {
      "text/plain": [
       "1    4\n",
       "3    5\n",
       "4    1\n",
       "5    6\n",
       "7    2\n",
       "8    0\n",
       "9    3\n",
       "dtype: int64"
      ]
     },
     "execution_count": 21,
     "metadata": {},
     "output_type": "execute_result"
    }
   ],
   "source": [
    "ef"
   ]
  },
  {
   "cell_type": "code",
   "execution_count": 22,
   "id": "75607024",
   "metadata": {},
   "outputs": [],
   "source": [
    "gh=pd.Series([i for i in range(150)])"
   ]
  },
  {
   "cell_type": "code",
   "execution_count": 23,
   "id": "6ba97e1c",
   "metadata": {},
   "outputs": [
    {
     "data": {
      "text/plain": [
       "0        0\n",
       "1        1\n",
       "2        2\n",
       "3        3\n",
       "4        4\n",
       "      ... \n",
       "145    145\n",
       "146    146\n",
       "147    147\n",
       "148    148\n",
       "149    149\n",
       "Length: 150, dtype: int64"
      ]
     },
     "execution_count": 23,
     "metadata": {},
     "output_type": "execute_result"
    }
   ],
   "source": [
    "gh"
   ]
  },
  {
   "cell_type": "code",
   "execution_count": 24,
   "id": "2823f67f",
   "metadata": {},
   "outputs": [],
   "source": [
    "gh=pd.Series([\"element_\"+str(i) for i in range(150)])"
   ]
  },
  {
   "cell_type": "code",
   "execution_count": 25,
   "id": "3155375a",
   "metadata": {},
   "outputs": [
    {
     "data": {
      "text/plain": [
       "0        element_0\n",
       "1        element_1\n",
       "2        element_2\n",
       "3        element_3\n",
       "4        element_4\n",
       "          ...     \n",
       "145    element_145\n",
       "146    element_146\n",
       "147    element_147\n",
       "148    element_148\n",
       "149    element_149\n",
       "Length: 150, dtype: object"
      ]
     },
     "execution_count": 25,
     "metadata": {},
     "output_type": "execute_result"
    }
   ],
   "source": [
    "gh"
   ]
  },
  {
   "cell_type": "code",
   "execution_count": 26,
   "id": "a5a14e68",
   "metadata": {},
   "outputs": [
    {
     "data": {
      "text/plain": [
       "4      element_4\n",
       "5      element_5\n",
       "6      element_6\n",
       "7      element_7\n",
       "8      element_8\n",
       "9      element_9\n",
       "10    element_10\n",
       "11    element_11\n",
       "12    element_12\n",
       "13    element_13\n",
       "14    element_14\n",
       "15    element_15\n",
       "dtype: object"
      ]
     },
     "execution_count": 26,
     "metadata": {},
     "output_type": "execute_result"
    }
   ],
   "source": [
    "gh.loc[4:15]"
   ]
  },
  {
   "cell_type": "code",
   "execution_count": 27,
   "id": "3b95f4df",
   "metadata": {},
   "outputs": [
    {
     "data": {
      "text/plain": [
       "'element_50'"
      ]
     },
     "execution_count": 27,
     "metadata": {},
     "output_type": "execute_result"
    }
   ],
   "source": [
    "gh[50]"
   ]
  },
  {
   "cell_type": "code",
   "execution_count": 28,
   "id": "63e1b518",
   "metadata": {},
   "outputs": [
    {
     "data": {
      "text/plain": [
       "1    4\n",
       "3    5\n",
       "4    1\n",
       "5    6\n",
       "7    2\n",
       "8    0\n",
       "9    3\n",
       "dtype: int64"
      ]
     },
     "execution_count": 28,
     "metadata": {},
     "output_type": "execute_result"
    }
   ],
   "source": [
    "ef"
   ]
  },
  {
   "cell_type": "code",
   "execution_count": 29,
   "id": "ace3f835",
   "metadata": {},
   "outputs": [
    {
     "data": {
      "text/plain": [
       "1    24\n",
       "3    30\n",
       "4     6\n",
       "5    36\n",
       "7    12\n",
       "8     0\n",
       "9    18\n",
       "dtype: int64"
      ]
     },
     "execution_count": 29,
     "metadata": {},
     "output_type": "execute_result"
    }
   ],
   "source": [
    "ef*6"
   ]
  },
  {
   "cell_type": "code",
   "execution_count": 30,
   "id": "fc0dfdfd",
   "metadata": {},
   "outputs": [],
   "source": [
    "ijkl=[round(i) for i in np.random.random(12)*25]"
   ]
  },
  {
   "cell_type": "code",
   "execution_count": 31,
   "id": "e71477fa",
   "metadata": {},
   "outputs": [],
   "source": [
    "ijkl=pd.Series(ijkl)"
   ]
  },
  {
   "cell_type": "code",
   "execution_count": 32,
   "id": "f5194a96",
   "metadata": {},
   "outputs": [
    {
     "data": {
      "text/plain": [
       "0      True\n",
       "1     False\n",
       "2     False\n",
       "3     False\n",
       "4     False\n",
       "5      True\n",
       "6      True\n",
       "7     False\n",
       "8     False\n",
       "9      True\n",
       "10     True\n",
       "11     True\n",
       "dtype: bool"
      ]
     },
     "execution_count": 32,
     "metadata": {},
     "output_type": "execute_result"
    }
   ],
   "source": [
    "ijkl>12"
   ]
  },
  {
   "cell_type": "code",
   "execution_count": 33,
   "id": "3149aeb3",
   "metadata": {},
   "outputs": [],
   "source": [
    "moon=ijkl>12"
   ]
  },
  {
   "cell_type": "code",
   "execution_count": 34,
   "id": "c840ab44",
   "metadata": {},
   "outputs": [
    {
     "data": {
      "text/plain": [
       "0     19\n",
       "5     13\n",
       "6     21\n",
       "9     19\n",
       "10    15\n",
       "11    19\n",
       "dtype: int64"
      ]
     },
     "execution_count": 34,
     "metadata": {},
     "output_type": "execute_result"
    }
   ],
   "source": [
    "ijkl[moon]"
   ]
  },
  {
   "cell_type": "code",
   "execution_count": 35,
   "id": "2057aaf1",
   "metadata": {},
   "outputs": [],
   "source": [
    "m=pd.Series([4,5,6,7,8])"
   ]
  },
  {
   "cell_type": "code",
   "execution_count": 36,
   "id": "fe53035a",
   "metadata": {},
   "outputs": [],
   "source": [
    "n=pd.Series([1,2,3,4,5,6])"
   ]
  },
  {
   "cell_type": "code",
   "execution_count": 37,
   "id": "4e429551",
   "metadata": {},
   "outputs": [
    {
     "data": {
      "text/plain": [
       "0     5.0\n",
       "1     7.0\n",
       "2     9.0\n",
       "3    11.0\n",
       "4    13.0\n",
       "5     NaN\n",
       "dtype: float64"
      ]
     },
     "execution_count": 37,
     "metadata": {},
     "output_type": "execute_result"
    }
   ],
   "source": [
    "m+n"
   ]
  },
  {
   "cell_type": "code",
   "execution_count": 38,
   "id": "2a8c3258",
   "metadata": {},
   "outputs": [
    {
     "data": {
      "text/plain": [
       "0    3.0\n",
       "1    3.0\n",
       "2    3.0\n",
       "3    3.0\n",
       "4    3.0\n",
       "5    NaN\n",
       "dtype: float64"
      ]
     },
     "execution_count": 38,
     "metadata": {},
     "output_type": "execute_result"
    }
   ],
   "source": [
    "m-n"
   ]
  },
  {
   "cell_type": "code",
   "execution_count": 39,
   "id": "0f665d45",
   "metadata": {},
   "outputs": [
    {
     "data": {
      "text/plain": [
       "0     4.0\n",
       "1    10.0\n",
       "2    18.0\n",
       "3    28.0\n",
       "4    40.0\n",
       "5     NaN\n",
       "dtype: float64"
      ]
     },
     "execution_count": 39,
     "metadata": {},
     "output_type": "execute_result"
    }
   ],
   "source": [
    "m*n"
   ]
  },
  {
   "cell_type": "code",
   "execution_count": 40,
   "id": "e9cbcac5",
   "metadata": {},
   "outputs": [
    {
     "data": {
      "text/plain": [
       "0     19\n",
       "1     11\n",
       "2     11\n",
       "3      6\n",
       "4      3\n",
       "5     13\n",
       "6     21\n",
       "7     12\n",
       "8     12\n",
       "9     19\n",
       "10    15\n",
       "11    19\n",
       "dtype: int64"
      ]
     },
     "execution_count": 40,
     "metadata": {},
     "output_type": "execute_result"
    }
   ],
   "source": [
    "ijkl"
   ]
  },
  {
   "cell_type": "code",
   "execution_count": 41,
   "id": "3e4fabb7",
   "metadata": {},
   "outputs": [
    {
     "data": {
      "text/plain": [
       "13.416666666666666"
      ]
     },
     "execution_count": 41,
     "metadata": {},
     "output_type": "execute_result"
    }
   ],
   "source": [
    "ijkl.mean()"
   ]
  },
  {
   "cell_type": "code",
   "execution_count": 42,
   "id": "4262f624",
   "metadata": {},
   "outputs": [
    {
     "data": {
      "text/plain": [
       "12.5"
      ]
     },
     "execution_count": 42,
     "metadata": {},
     "output_type": "execute_result"
    }
   ],
   "source": [
    "ijkl.median()"
   ]
  },
  {
   "cell_type": "code",
   "execution_count": 43,
   "id": "9e6bbcb9",
   "metadata": {},
   "outputs": [
    {
     "data": {
      "text/plain": [
       "mean       13.416667\n",
       "sum       161.000000\n",
       "median     12.500000\n",
       "dtype: float64"
      ]
     },
     "execution_count": 43,
     "metadata": {},
     "output_type": "execute_result"
    }
   ],
   "source": [
    "ijkl.agg(['mean','sum','median'])"
   ]
  },
  {
   "cell_type": "code",
   "execution_count": 44,
   "id": "4faf78f8",
   "metadata": {},
   "outputs": [
    {
     "data": {
      "text/plain": [
       "count    12.000000\n",
       "mean     13.416667\n",
       "std       5.501377\n",
       "min       3.000000\n",
       "25%      11.000000\n",
       "50%      12.500000\n",
       "75%      19.000000\n",
       "max      21.000000\n",
       "dtype: float64"
      ]
     },
     "execution_count": 44,
     "metadata": {},
     "output_type": "execute_result"
    }
   ],
   "source": [
    "ijkl.describe()"
   ]
  },
  {
   "cell_type": "code",
   "execution_count": 45,
   "id": "6a803c07",
   "metadata": {},
   "outputs": [],
   "source": [
    "ijkl=ijkl.append(pd.Series([10,20,30],index=[40,50,60]),ignore_index=True)"
   ]
  },
  {
   "cell_type": "code",
   "execution_count": 46,
   "id": "a7d1c13b",
   "metadata": {},
   "outputs": [],
   "source": [
    "ijkl[20]=30"
   ]
  },
  {
   "cell_type": "code",
   "execution_count": 47,
   "id": "1cbd994b",
   "metadata": {},
   "outputs": [],
   "source": [
    "ijkl=ijkl.shift(20)"
   ]
  },
  {
   "cell_type": "code",
   "execution_count": 48,
   "id": "dfdf5130",
   "metadata": {},
   "outputs": [],
   "source": [
    "ijkl[0:10]=np.arange(10)"
   ]
  },
  {
   "cell_type": "code",
   "execution_count": 49,
   "id": "4591b6fa",
   "metadata": {},
   "outputs": [
    {
     "data": {
      "text/plain": [
       "10"
      ]
     },
     "execution_count": 49,
     "metadata": {},
     "output_type": "execute_result"
    }
   ],
   "source": [
    "ijkl.count()"
   ]
  },
  {
   "cell_type": "code",
   "execution_count": 50,
   "id": "700b3139",
   "metadata": {},
   "outputs": [],
   "source": [
    "ijkl['fhjhgg']=35"
   ]
  },
  {
   "cell_type": "code",
   "execution_count": 51,
   "id": "b5e9cd7e",
   "metadata": {},
   "outputs": [],
   "source": [
    "sun=pd.Series([5,6,7,8,9])"
   ]
  },
  {
   "cell_type": "code",
   "execution_count": 52,
   "id": "0c95ad27",
   "metadata": {},
   "outputs": [
    {
     "data": {
      "text/plain": [
       "0    False\n",
       "1    False\n",
       "2    False\n",
       "3    False\n",
       "4    False\n",
       "dtype: bool"
      ]
     },
     "execution_count": 52,
     "metadata": {},
     "output_type": "execute_result"
    }
   ],
   "source": [
    "sun.isin([2,3])"
   ]
  },
  {
   "cell_type": "code",
   "execution_count": null,
   "id": "c0fa42f4",
   "metadata": {},
   "outputs": [],
   "source": []
  }
 ],
 "metadata": {
  "kernelspec": {
   "display_name": "Python 3 (ipykernel)",
   "language": "python",
   "name": "python3"
  },
  "language_info": {
   "codemirror_mode": {
    "name": "ipython",
    "version": 3
   },
   "file_extension": ".py",
   "mimetype": "text/x-python",
   "name": "python",
   "nbconvert_exporter": "python",
   "pygments_lexer": "ipython3",
   "version": "3.8.12"
  }
 },
 "nbformat": 4,
 "nbformat_minor": 5
}
