{
 "cells": [
  {
   "cell_type": "code",
   "execution_count": 1,
   "id": "8b4b3710",
   "metadata": {},
   "outputs": [],
   "source": [
    "import pandas as pd\n",
    "import numpy as np"
   ]
  },
  {
   "cell_type": "code",
   "execution_count": 2,
   "id": "502e4271",
   "metadata": {},
   "outputs": [],
   "source": [
    "a=['Name', 'Age','Degree']\n",
    "b=['Sonika', 21,'B.E']"
   ]
  },
  {
   "cell_type": "code",
   "execution_count": 3,
   "id": "99d5c285",
   "metadata": {},
   "outputs": [],
   "source": [
    "s1=pd.Series(data=b,index=a)"
   ]
  },
  {
   "cell_type": "code",
   "execution_count": 4,
   "id": "bd666654",
   "metadata": {},
   "outputs": [
    {
     "data": {
      "text/plain": [
       "Name      Sonika\n",
       "Age           21\n",
       "Degree       B.E\n",
       "dtype: object"
      ]
     },
     "execution_count": 4,
     "metadata": {},
     "output_type": "execute_result"
    }
   ],
   "source": [
    "s1"
   ]
  },
  {
   "cell_type": "code",
   "execution_count": 5,
   "id": "a01236ab",
   "metadata": {},
   "outputs": [
    {
     "data": {
      "text/plain": [
       "array(['Sonika', 21, 'B.E'], dtype=object)"
      ]
     },
     "execution_count": 5,
     "metadata": {},
     "output_type": "execute_result"
    }
   ],
   "source": [
    "s1.values"
   ]
  },
  {
   "cell_type": "code",
   "execution_count": 6,
   "id": "f1dcba23",
   "metadata": {},
   "outputs": [
    {
     "data": {
      "text/plain": [
       "'Sonika'"
      ]
     },
     "execution_count": 6,
     "metadata": {},
     "output_type": "execute_result"
    }
   ],
   "source": [
    "s1[0]"
   ]
  },
  {
   "cell_type": "code",
   "execution_count": 7,
   "id": "2ed91650",
   "metadata": {},
   "outputs": [
    {
     "data": {
      "text/plain": [
       "Name    Sonika\n",
       "Age         21\n",
       "dtype: object"
      ]
     },
     "execution_count": 7,
     "metadata": {},
     "output_type": "execute_result"
    }
   ],
   "source": [
    "s1[:2]"
   ]
  },
  {
   "cell_type": "code",
   "execution_count": 8,
   "id": "417f1142",
   "metadata": {},
   "outputs": [
    {
     "data": {
      "text/plain": [
       "Name      Sonika\n",
       "Age           21\n",
       "Degree       B.E\n",
       "dtype: object"
      ]
     },
     "execution_count": 8,
     "metadata": {},
     "output_type": "execute_result"
    }
   ],
   "source": [
    "s1[:3]"
   ]
  },
  {
   "cell_type": "code",
   "execution_count": 9,
   "id": "cdd716db",
   "metadata": {},
   "outputs": [
    {
     "data": {
      "text/plain": [
       "<PandasArray>\n",
       "[1, 2, 3, 4, 5]\n",
       "Length: 5, dtype: int64"
      ]
     },
     "execution_count": 9,
     "metadata": {},
     "output_type": "execute_result"
    }
   ],
   "source": [
    "pd.Series([1,2,3,4,5]).array"
   ]
  },
  {
   "cell_type": "code",
   "execution_count": 10,
   "id": "81359f13",
   "metadata": {},
   "outputs": [
    {
     "data": {
      "text/plain": [
       "{'Name': 'Sonika', 'Age': 21, 'Degree': 'B.E'}"
      ]
     },
     "execution_count": 10,
     "metadata": {},
     "output_type": "execute_result"
    }
   ],
   "source": [
    "{i:j for i,j in zip(a,b)}"
   ]
  },
  {
   "cell_type": "code",
   "execution_count": 11,
   "id": "2a91fa3c",
   "metadata": {},
   "outputs": [
    {
     "data": {
      "text/plain": [
       "array([2, 4, 6, 8], dtype=int64)"
      ]
     },
     "execution_count": 11,
     "metadata": {},
     "output_type": "execute_result"
    }
   ],
   "source": [
    "pd.Series([2,4,6,8]).values"
   ]
  },
  {
   "cell_type": "code",
   "execution_count": 12,
   "id": "25f50559",
   "metadata": {},
   "outputs": [],
   "source": [
    "son=pd.Series([1,2,3,4,5,6])"
   ]
  },
  {
   "cell_type": "code",
   "execution_count": 13,
   "id": "c984f189",
   "metadata": {},
   "outputs": [
    {
     "data": {
      "text/plain": [
       "0    1\n",
       "1    2\n",
       "2    3\n",
       "3    4\n",
       "4    5\n",
       "5    6\n",
       "dtype: int64"
      ]
     },
     "execution_count": 13,
     "metadata": {},
     "output_type": "execute_result"
    }
   ],
   "source": [
    "son"
   ]
  },
  {
   "cell_type": "code",
   "execution_count": 14,
   "id": "61ad796f",
   "metadata": {},
   "outputs": [
    {
     "data": {
      "text/plain": [
       "0    1\n",
       "1    2\n",
       "2    3\n",
       "3    4\n",
       "4    5\n",
       "5    6\n",
       "dtype: int64"
      ]
     },
     "execution_count": 14,
     "metadata": {},
     "output_type": "execute_result"
    }
   ],
   "source": [
    "son.astype('int64')"
   ]
  },
  {
   "cell_type": "code",
   "execution_count": 15,
   "id": "7fba9a82",
   "metadata": {},
   "outputs": [],
   "source": [
    "ss=pd.Series(index=['Name','USN','College'], data=['Riya','4GL18CS001','GECK'])"
   ]
  },
  {
   "cell_type": "code",
   "execution_count": 16,
   "id": "514c5bf1",
   "metadata": {},
   "outputs": [
    {
     "data": {
      "text/plain": [
       "Name             Riya\n",
       "USN        4GL18CS001\n",
       "College          GECK\n",
       "dtype: object"
      ]
     },
     "execution_count": 16,
     "metadata": {},
     "output_type": "execute_result"
    }
   ],
   "source": [
    "ss"
   ]
  },
  {
   "cell_type": "code",
   "execution_count": 17,
   "id": "f81eb23e",
   "metadata": {},
   "outputs": [
    {
     "data": {
      "text/plain": [
       "'4GL18CS001'"
      ]
     },
     "execution_count": 17,
     "metadata": {},
     "output_type": "execute_result"
    }
   ],
   "source": [
    "ss.loc['USN']"
   ]
  },
  {
   "cell_type": "code",
   "execution_count": 18,
   "id": "cfaf6a3c",
   "metadata": {},
   "outputs": [],
   "source": [
    "ab=pd.Series([i for i in range(5)], index=[5,7,3,8,9])"
   ]
  },
  {
   "cell_type": "code",
   "execution_count": 19,
   "id": "ad7e9e2b",
   "metadata": {},
   "outputs": [
    {
     "data": {
      "text/plain": [
       "9    4\n",
       "8    3\n",
       "3    2\n",
       "7    1\n",
       "5    0\n",
       "dtype: int64"
      ]
     },
     "execution_count": 19,
     "metadata": {},
     "output_type": "execute_result"
    }
   ],
   "source": [
    "ab.sort_values(ascending=False)"
   ]
  },
  {
   "cell_type": "code",
   "execution_count": 20,
   "id": "9e32e32d",
   "metadata": {},
   "outputs": [],
   "source": [
    "ab.sort_index(inplace=True)"
   ]
  },
  {
   "cell_type": "code",
   "execution_count": 21,
   "id": "b325cda6",
   "metadata": {},
   "outputs": [
    {
     "data": {
      "text/plain": [
       "3    2\n",
       "5    0\n",
       "7    1\n",
       "8    3\n",
       "9    4\n",
       "dtype: int64"
      ]
     },
     "execution_count": 21,
     "metadata": {},
     "output_type": "execute_result"
    }
   ],
   "source": [
    "ab"
   ]
  },
  {
   "cell_type": "code",
   "execution_count": 22,
   "id": "8a26cc4d",
   "metadata": {},
   "outputs": [],
   "source": [
    "cc=pd.Series([i for i in range(300)])"
   ]
  },
  {
   "cell_type": "code",
   "execution_count": 23,
   "id": "c8cf1ac6",
   "metadata": {},
   "outputs": [
    {
     "data": {
      "text/plain": [
       "0        0\n",
       "1        1\n",
       "2        2\n",
       "3        3\n",
       "4        4\n",
       "      ... \n",
       "295    295\n",
       "296    296\n",
       "297    297\n",
       "298    298\n",
       "299    299\n",
       "Length: 300, dtype: int64"
      ]
     },
     "execution_count": 23,
     "metadata": {},
     "output_type": "execute_result"
    }
   ],
   "source": [
    "cc"
   ]
  },
  {
   "cell_type": "code",
   "execution_count": 24,
   "id": "aec8b9e2",
   "metadata": {},
   "outputs": [],
   "source": [
    "cc=pd.Series([\"element_\"+str(i) for i in range(300)])"
   ]
  },
  {
   "cell_type": "code",
   "execution_count": 25,
   "id": "a73c8865",
   "metadata": {},
   "outputs": [
    {
     "data": {
      "text/plain": [
       "0        element_0\n",
       "1        element_1\n",
       "2        element_2\n",
       "3        element_3\n",
       "4        element_4\n",
       "          ...     \n",
       "295    element_295\n",
       "296    element_296\n",
       "297    element_297\n",
       "298    element_298\n",
       "299    element_299\n",
       "Length: 300, dtype: object"
      ]
     },
     "execution_count": 25,
     "metadata": {},
     "output_type": "execute_result"
    }
   ],
   "source": [
    "cc"
   ]
  },
  {
   "cell_type": "code",
   "execution_count": 26,
   "id": "d24fe6d7",
   "metadata": {},
   "outputs": [
    {
     "data": {
      "text/plain": [
       "5      element_5\n",
       "6      element_6\n",
       "7      element_7\n",
       "8      element_8\n",
       "9      element_9\n",
       "10    element_10\n",
       "11    element_11\n",
       "12    element_12\n",
       "13    element_13\n",
       "14    element_14\n",
       "15    element_15\n",
       "16    element_16\n",
       "17    element_17\n",
       "18    element_18\n",
       "19    element_19\n",
       "20    element_20\n",
       "dtype: object"
      ]
     },
     "execution_count": 26,
     "metadata": {},
     "output_type": "execute_result"
    }
   ],
   "source": [
    "cc.loc[5:20]"
   ]
  },
  {
   "cell_type": "code",
   "execution_count": 27,
   "id": "e641c282",
   "metadata": {},
   "outputs": [
    {
     "data": {
      "text/plain": [
       "'element_100'"
      ]
     },
     "execution_count": 27,
     "metadata": {},
     "output_type": "execute_result"
    }
   ],
   "source": [
    "cc[100]"
   ]
  },
  {
   "cell_type": "code",
   "execution_count": 28,
   "id": "3e3b04a3",
   "metadata": {},
   "outputs": [
    {
     "data": {
      "text/plain": [
       "3    2\n",
       "5    0\n",
       "7    1\n",
       "8    3\n",
       "9    4\n",
       "dtype: int64"
      ]
     },
     "execution_count": 28,
     "metadata": {},
     "output_type": "execute_result"
    }
   ],
   "source": [
    "ab"
   ]
  },
  {
   "cell_type": "code",
   "execution_count": 29,
   "id": "39fd8202",
   "metadata": {},
   "outputs": [
    {
     "data": {
      "text/plain": [
       "3    10\n",
       "5     0\n",
       "7     5\n",
       "8    15\n",
       "9    20\n",
       "dtype: int64"
      ]
     },
     "execution_count": 29,
     "metadata": {},
     "output_type": "execute_result"
    }
   ],
   "source": [
    "ab*5"
   ]
  },
  {
   "cell_type": "code",
   "execution_count": 30,
   "id": "de71c305",
   "metadata": {},
   "outputs": [],
   "source": [
    "score=[round(i) for i in np.random.random(10)*50]"
   ]
  },
  {
   "cell_type": "code",
   "execution_count": 31,
   "id": "8d7b6891",
   "metadata": {},
   "outputs": [],
   "source": [
    "score=pd.Series(score)"
   ]
  },
  {
   "cell_type": "code",
   "execution_count": 32,
   "id": "e081cdf0",
   "metadata": {},
   "outputs": [
    {
     "data": {
      "text/plain": [
       "0     True\n",
       "1    False\n",
       "2     True\n",
       "3    False\n",
       "4     True\n",
       "5    False\n",
       "6    False\n",
       "7     True\n",
       "8     True\n",
       "9    False\n",
       "dtype: bool"
      ]
     },
     "execution_count": 32,
     "metadata": {},
     "output_type": "execute_result"
    }
   ],
   "source": [
    "score>20"
   ]
  },
  {
   "cell_type": "code",
   "execution_count": 33,
   "id": "a5eb4519",
   "metadata": {},
   "outputs": [],
   "source": [
    "indices = score>20"
   ]
  },
  {
   "cell_type": "code",
   "execution_count": 34,
   "id": "362544d1",
   "metadata": {},
   "outputs": [
    {
     "data": {
      "text/plain": [
       "0    38\n",
       "2    43\n",
       "4    28\n",
       "7    47\n",
       "8    26\n",
       "dtype: int64"
      ]
     },
     "execution_count": 34,
     "metadata": {},
     "output_type": "execute_result"
    }
   ],
   "source": [
    "score[indices]"
   ]
  },
  {
   "cell_type": "code",
   "execution_count": 35,
   "id": "9d0f6e4a",
   "metadata": {},
   "outputs": [],
   "source": [
    "a=pd.Series([1,2,3,4,5])"
   ]
  },
  {
   "cell_type": "code",
   "execution_count": 36,
   "id": "735bb33c",
   "metadata": {},
   "outputs": [],
   "source": [
    "b=pd.Series([1,2,3,4,5,6])"
   ]
  },
  {
   "cell_type": "code",
   "execution_count": 37,
   "id": "52077640",
   "metadata": {},
   "outputs": [
    {
     "data": {
      "text/plain": [
       "0     2.0\n",
       "1     4.0\n",
       "2     6.0\n",
       "3     8.0\n",
       "4    10.0\n",
       "5     NaN\n",
       "dtype: float64"
      ]
     },
     "execution_count": 37,
     "metadata": {},
     "output_type": "execute_result"
    }
   ],
   "source": [
    "a+b"
   ]
  },
  {
   "cell_type": "code",
   "execution_count": 38,
   "id": "1fa31cb4",
   "metadata": {},
   "outputs": [
    {
     "data": {
      "text/plain": [
       "0    0.0\n",
       "1    0.0\n",
       "2    0.0\n",
       "3    0.0\n",
       "4    0.0\n",
       "5    NaN\n",
       "dtype: float64"
      ]
     },
     "execution_count": 38,
     "metadata": {},
     "output_type": "execute_result"
    }
   ],
   "source": [
    "a-b"
   ]
  },
  {
   "cell_type": "code",
   "execution_count": 39,
   "id": "bd769c4d",
   "metadata": {},
   "outputs": [
    {
     "data": {
      "text/plain": [
       "0     1.0\n",
       "1     4.0\n",
       "2     9.0\n",
       "3    16.0\n",
       "4    25.0\n",
       "5     NaN\n",
       "dtype: float64"
      ]
     },
     "execution_count": 39,
     "metadata": {},
     "output_type": "execute_result"
    }
   ],
   "source": [
    "a*b"
   ]
  },
  {
   "cell_type": "code",
   "execution_count": 40,
   "id": "8bb63420",
   "metadata": {},
   "outputs": [
    {
     "data": {
      "text/plain": [
       "0    38\n",
       "1    15\n",
       "2    43\n",
       "3     9\n",
       "4    28\n",
       "5     4\n",
       "6    12\n",
       "7    47\n",
       "8    26\n",
       "9     3\n",
       "dtype: int64"
      ]
     },
     "execution_count": 40,
     "metadata": {},
     "output_type": "execute_result"
    }
   ],
   "source": [
    "score"
   ]
  },
  {
   "cell_type": "code",
   "execution_count": 41,
   "id": "cf97e172",
   "metadata": {},
   "outputs": [
    {
     "data": {
      "text/plain": [
       "22.5"
      ]
     },
     "execution_count": 41,
     "metadata": {},
     "output_type": "execute_result"
    }
   ],
   "source": [
    "score.mean()"
   ]
  },
  {
   "cell_type": "code",
   "execution_count": 42,
   "id": "c1cc19df",
   "metadata": {},
   "outputs": [
    {
     "data": {
      "text/plain": [
       "20.5"
      ]
     },
     "execution_count": 42,
     "metadata": {},
     "output_type": "execute_result"
    }
   ],
   "source": [
    "score.median()"
   ]
  },
  {
   "cell_type": "code",
   "execution_count": 43,
   "id": "f722ae3a",
   "metadata": {},
   "outputs": [
    {
     "data": {
      "text/plain": [
       "mean       22.5\n",
       "sum       225.0\n",
       "median     20.5\n",
       "dtype: float64"
      ]
     },
     "execution_count": 43,
     "metadata": {},
     "output_type": "execute_result"
    }
   ],
   "source": [
    "score.agg(['mean','sum','median'])"
   ]
  },
  {
   "cell_type": "code",
   "execution_count": 44,
   "id": "92bd34c7",
   "metadata": {},
   "outputs": [
    {
     "data": {
      "text/plain": [
       "count    10.000000\n",
       "mean     22.500000\n",
       "std      16.242947\n",
       "min       3.000000\n",
       "25%       9.750000\n",
       "50%      20.500000\n",
       "75%      35.500000\n",
       "max      47.000000\n",
       "dtype: float64"
      ]
     },
     "execution_count": 44,
     "metadata": {},
     "output_type": "execute_result"
    }
   ],
   "source": [
    "score.describe()"
   ]
  },
  {
   "cell_type": "code",
   "execution_count": 45,
   "id": "523f0912",
   "metadata": {},
   "outputs": [],
   "source": [
    "score=score.append(pd.Series([10,25,60],index=[50,60,70]),ignore_index=True)"
   ]
  },
  {
   "cell_type": "code",
   "execution_count": 46,
   "id": "d161ee68",
   "metadata": {},
   "outputs": [],
   "source": [
    "score[31]=40"
   ]
  },
  {
   "cell_type": "code",
   "execution_count": 47,
   "id": "0d69c796",
   "metadata": {},
   "outputs": [],
   "source": [
    "score=score.shift(10)"
   ]
  },
  {
   "cell_type": "code",
   "execution_count": 48,
   "id": "1cae859d",
   "metadata": {},
   "outputs": [],
   "source": [
    "score[0:10]=np.arange(10)"
   ]
  },
  {
   "cell_type": "code",
   "execution_count": 49,
   "id": "be3153f8",
   "metadata": {},
   "outputs": [
    {
     "data": {
      "text/plain": [
       "0      0.0\n",
       "1      1.0\n",
       "2      2.0\n",
       "3      3.0\n",
       "4      4.0\n",
       "5      5.0\n",
       "6      6.0\n",
       "7      7.0\n",
       "8      8.0\n",
       "9      9.0\n",
       "10    38.0\n",
       "11    15.0\n",
       "12    43.0\n",
       "31     9.0\n",
       "dtype: float64"
      ]
     },
     "execution_count": 49,
     "metadata": {},
     "output_type": "execute_result"
    }
   ],
   "source": [
    "score"
   ]
  },
  {
   "cell_type": "code",
   "execution_count": 50,
   "id": "8228a4ff",
   "metadata": {},
   "outputs": [
    {
     "data": {
      "text/plain": [
       "14"
      ]
     },
     "execution_count": 50,
     "metadata": {},
     "output_type": "execute_result"
    }
   ],
   "source": [
    "score.count()"
   ]
  },
  {
   "cell_type": "code",
   "execution_count": 51,
   "id": "9486f14c",
   "metadata": {},
   "outputs": [],
   "source": [
    "score['ajhffj']=43"
   ]
  },
  {
   "cell_type": "code",
   "execution_count": 52,
   "id": "4f855695",
   "metadata": {},
   "outputs": [],
   "source": [
    "ser=pd.Series([1,2,3,4,5,6])"
   ]
  },
  {
   "cell_type": "code",
   "execution_count": 53,
   "id": "6f70f68b",
   "metadata": {},
   "outputs": [
    {
     "data": {
      "text/plain": [
       "0     True\n",
       "1     True\n",
       "2    False\n",
       "3    False\n",
       "4    False\n",
       "5    False\n",
       "dtype: bool"
      ]
     },
     "execution_count": 53,
     "metadata": {},
     "output_type": "execute_result"
    }
   ],
   "source": [
    "ser.isin([1,2])"
   ]
  },
  {
   "cell_type": "code",
   "execution_count": null,
   "id": "cf2f286c",
   "metadata": {},
   "outputs": [],
   "source": []
  }
 ],
 "metadata": {
  "kernelspec": {
   "display_name": "Python 3 (ipykernel)",
   "language": "python",
   "name": "python3"
  },
  "language_info": {
   "codemirror_mode": {
    "name": "ipython",
    "version": 3
   },
   "file_extension": ".py",
   "mimetype": "text/x-python",
   "name": "python",
   "nbconvert_exporter": "python",
   "pygments_lexer": "ipython3",
   "version": "3.8.12"
  }
 },
 "nbformat": 4,
 "nbformat_minor": 5
}
