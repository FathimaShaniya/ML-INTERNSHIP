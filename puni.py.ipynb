{
 "cells": [
  {
   "cell_type": "markdown",
   "id": "20815b2e",
   "metadata": {},
   "source": [
    "# welcome to numpy!"
   ]
  },
  {
   "cell_type": "markdown",
   "id": "0e001fa9",
   "metadata": {},
   "source": [
    "# Numpy code example"
   ]
  },
  {
   "cell_type": "code",
   "execution_count": null,
   "id": "a233accc",
   "metadata": {},
   "outputs": [],
   "source": [
    "import numpy as np"
   ]
  },
  {
   "cell_type": "code",
   "execution_count": 4,
   "id": "45c0ab03",
   "metadata": {},
   "outputs": [
    {
     "data": {
      "text/plain": [
       "array([ 1,  4,  7, 10, 13, 16, 19])"
      ]
     },
     "execution_count": 4,
     "metadata": {},
     "output_type": "execute_result"
    }
   ],
   "source": [
    "npdata=np.arange(1,21,3)\n",
    "npdata"
   ]
  },
  {
   "cell_type": "markdown",
   "id": "6e34156a",
   "metadata": {},
   "source": [
    "#  Initialize Numpy arrays from python lists"
   ]
  },
  {
   "cell_type": "code",
   "execution_count": 6,
   "id": "8a81687b",
   "metadata": {},
   "outputs": [
    {
     "data": {
      "text/plain": [
       "array([1, 9, 8, 3])"
      ]
     },
     "execution_count": 6,
     "metadata": {},
     "output_type": "execute_result"
    }
   ],
   "source": [
    "mypythonlist=[1,9,8,3]\n",
    "numpy_array_from_list=np.array(mypythonlist)\n",
    "numpy_array_from_list"
   ]
  },
  {
   "cell_type": "markdown",
   "id": "600477f0",
   "metadata": {},
   "source": [
    "# Mathematical operations on an array (+,-,*,/)"
   ]
  },
  {
   "cell_type": "code",
   "execution_count": 7,
   "id": "88cffc05",
   "metadata": {},
   "outputs": [
    {
     "data": {
      "text/plain": [
       "array([11, 19, 18, 13])"
      ]
     },
     "execution_count": 7,
     "metadata": {},
     "output_type": "execute_result"
    }
   ],
   "source": [
    "numpy_array_from_list+10"
   ]
  },
  {
   "cell_type": "markdown",
   "id": "e95f4527",
   "metadata": {},
   "source": [
    "# Shape of array using dtype"
   ]
  },
  {
   "cell_type": "code",
   "execution_count": 8,
   "id": "5a8bdcc5",
   "metadata": {},
   "outputs": [
    {
     "name": "stdout",
     "output_type": "stream",
     "text": [
      "(3,)\n",
      "int32\n"
     ]
    }
   ],
   "source": [
    "import numpy as np\n",
    "a=np.array([1,2,3])\n",
    "print(a.shape)\n",
    "print(a.dtype)"
   ]
  },
  {
   "cell_type": "markdown",
   "id": "2b78b4f2",
   "metadata": {},
   "source": [
    "# create an array with decimal"
   ]
  },
  {
   "cell_type": "code",
   "execution_count": 9,
   "id": "78d234e3",
   "metadata": {},
   "outputs": [
    {
     "name": "stdout",
     "output_type": "stream",
     "text": [
      "float64\n"
     ]
    }
   ],
   "source": [
    "#### Different type\n",
    "b=np.array([1.1,2.0,3.2])\n",
    "print(b.dtype)"
   ]
  },
  {
   "cell_type": "markdown",
   "id": "4fa7bdc6",
   "metadata": {},
   "source": [
    "# 2 Dimension array"
   ]
  },
  {
   "cell_type": "code",
   "execution_count": 10,
   "id": "7c457800",
   "metadata": {},
   "outputs": [
    {
     "name": "stdout",
     "output_type": "stream",
     "text": [
      "(2, 3)\n"
     ]
    }
   ],
   "source": [
    "### 2 Dimension\n",
    "c=np.array([(1,2,3),(4,5,6)])\n",
    "print(c.shape)"
   ]
  },
  {
   "cell_type": "markdown",
   "id": "1b4867c1",
   "metadata": {},
   "source": [
    "# 3 Dimension array"
   ]
  },
  {
   "cell_type": "code",
   "execution_count": 13,
   "id": "f43f2250",
   "metadata": {},
   "outputs": [
    {
     "name": "stdout",
     "output_type": "stream",
     "text": [
      "(2, 2, 3)\n"
     ]
    }
   ],
   "source": [
    "### 3 Dimension\n",
    "d=np.array([\n",
    "    [[1,2,3],\n",
    "     [4,5,6]],\n",
    "    [[7,8,9],\n",
    "     [10,11,12]]\n",
    "])\n",
    "print(d.shape)"
   ]
  },
  {
   "cell_type": "markdown",
   "id": "e366d022",
   "metadata": {},
   "source": [
    "# How to create a basic array(using np.array(),np.zeros(),np.ones(),np.empty(),np.arange(),np.linspace(),np.reshape(),np.flatten(),np.hstack(),np.vstack(),)"
   ]
  },
  {
   "cell_type": "code",
   "execution_count": 16,
   "id": "33a4ac96",
   "metadata": {},
   "outputs": [
    {
     "data": {
      "text/plain": [
       "array([7, 8, 9])"
      ]
     },
     "execution_count": 16,
     "metadata": {},
     "output_type": "execute_result"
    }
   ],
   "source": [
    "import numpy as np\n",
    "a=np.array([7,8,9])\n",
    "np.array([7,8,9])"
   ]
  },
  {
   "cell_type": "code",
   "execution_count": 18,
   "id": "4b1dbbba",
   "metadata": {},
   "outputs": [
    {
     "data": {
      "text/plain": [
       "array([[0., 0., 0.],\n",
       "       [0., 0., 0.],\n",
       "       [0., 0., 0.]])"
      ]
     },
     "execution_count": 18,
     "metadata": {},
     "output_type": "execute_result"
    }
   ],
   "source": [
    "import numpy as np\n",
    "np.zeros((3,3))"
   ]
  },
  {
   "cell_type": "code",
   "execution_count": 19,
   "id": "8879c075",
   "metadata": {},
   "outputs": [
    {
     "data": {
      "text/plain": [
       "array([[[1, 1, 1],\n",
       "        [1, 1, 1]]], dtype=int16)"
      ]
     },
     "execution_count": 19,
     "metadata": {},
     "output_type": "execute_result"
    }
   ],
   "source": [
    "import numpy as np\n",
    "np.ones ((1,2,3),\n",
    "        dtype=np.int16)"
   ]
  },
  {
   "cell_type": "code",
   "execution_count": 20,
   "id": "15908927",
   "metadata": {},
   "outputs": [
    {
     "name": "stdout",
     "output_type": "stream",
     "text": [
      "[[1 2 3]\n",
      " [4 5 6]]\n"
     ]
    },
    {
     "data": {
      "text/plain": [
       "array([[1, 2],\n",
       "       [3, 4],\n",
       "       [5, 6]])"
      ]
     },
     "execution_count": 20,
     "metadata": {},
     "output_type": "execute_result"
    }
   ],
   "source": [
    "import numpy as np\n",
    "e=np.array([(1,2,3),\n",
    "           (4,5,6)])\n",
    "print(e)\n",
    "e.reshape(3,2)"
   ]
  },
  {
   "cell_type": "code",
   "execution_count": 22,
   "id": "e5513e59",
   "metadata": {},
   "outputs": [
    {
     "data": {
      "text/plain": [
       "array([1.12723336e-311, 1.46417710e-312])"
      ]
     },
     "execution_count": 22,
     "metadata": {},
     "output_type": "execute_result"
    }
   ],
   "source": [
    "import numpy as np\n",
    "np.empty(2)\n"
   ]
  },
  {
   "cell_type": "code",
   "execution_count": 23,
   "id": "134199e7",
   "metadata": {},
   "outputs": [
    {
     "data": {
      "text/plain": [
       "array([ 1,  2,  3,  4,  5,  6,  7,  8,  9, 10])"
      ]
     },
     "execution_count": 23,
     "metadata": {},
     "output_type": "execute_result"
    }
   ],
   "source": [
    "import numpy as np\n",
    "np.arange(1,11)\n"
   ]
  },
  {
   "cell_type": "code",
   "execution_count": 24,
   "id": "6ce76c9c",
   "metadata": {},
   "outputs": [
    {
     "data": {
      "text/plain": [
       "array([1.        , 1.44444444, 1.88888889, 2.33333333, 2.77777778,\n",
       "       3.22222222, 3.66666667, 4.11111111, 4.55555556, 5.        ])"
      ]
     },
     "execution_count": 24,
     "metadata": {},
     "output_type": "execute_result"
    }
   ],
   "source": [
    "import numpy as np\n",
    "np.linspace(1.0,5.0,num=10)"
   ]
  },
  {
   "cell_type": "code",
   "execution_count": 25,
   "id": "1ee69d7e",
   "metadata": {},
   "outputs": [
    {
     "data": {
      "text/plain": [
       "array([1, 2, 3, 4, 5, 6])"
      ]
     },
     "execution_count": 25,
     "metadata": {},
     "output_type": "execute_result"
    }
   ],
   "source": [
    "import numpy as np\n",
    "e.flatten()"
   ]
  },
  {
   "cell_type": "code",
   "execution_count": 26,
   "id": "a143e562",
   "metadata": {},
   "outputs": [
    {
     "name": "stdout",
     "output_type": "stream",
     "text": [
      "Horizontal Append: [1 2 3 4 5 6]\n"
     ]
    }
   ],
   "source": [
    "## Horizontal Stack\n",
    "import numpy as np\n",
    "f=np.array([1,2,3])\n",
    "g=np.array([4,5,6])\n",
    "print('Horizontal Append:',\n",
    "     np.hstack((f,g)))"
   ]
  },
  {
   "cell_type": "code",
   "execution_count": 27,
   "id": "808847dc",
   "metadata": {},
   "outputs": [
    {
     "name": "stdout",
     "output_type": "stream",
     "text": [
      "Vertical Append: [[1 2 3]\n",
      " [4 5 6]]\n"
     ]
    }
   ],
   "source": [
    "## Veritcal stack\n",
    "import numpy as np\n",
    "f=np.array([1,2,3])\n",
    "g=np.array([4,5,6])\n",
    "print('Vertical Append:',np.vstack((f,g)))"
   ]
  },
  {
   "cell_type": "markdown",
   "id": "161394be",
   "metadata": {},
   "source": [
    "# Generate Random Numbers using numpy"
   ]
  },
  {
   "cell_type": "code",
   "execution_count": 28,
   "id": "2188d1a3",
   "metadata": {},
   "outputs": [
    {
     "name": "stdout",
     "output_type": "stream",
     "text": [
      "[3.9488166  5.2520673  4.67930442 5.66271492 4.42764416 4.99328869\n",
      " 5.23681114 4.94137085 5.05125951 5.1502391 ]\n"
     ]
    }
   ],
   "source": [
    "## Generate random number from normal distribution\n",
    "normal_array=np.random.normal(5,0.5,10)\n",
    "print(normal_array)"
   ]
  },
  {
   "cell_type": "markdown",
   "id": "4aaa965c",
   "metadata": {},
   "source": [
    "# Numpy Asarray function"
   ]
  },
  {
   "cell_type": "code",
   "execution_count": 29,
   "id": "9cc768da",
   "metadata": {},
   "outputs": [
    {
     "name": "stdout",
     "output_type": "stream",
     "text": [
      "[[1. 1. 1. 1.]\n",
      " [1. 1. 1. 1.]\n",
      " [1. 1. 1. 1.]\n",
      " [1. 1. 1. 1.]]\n"
     ]
    }
   ],
   "source": [
    "import numpy as np\n",
    "A=np.matrix(np.ones((4,4)))\n",
    "np.array(A)[2]=2\n",
    "print(A)"
   ]
  },
  {
   "cell_type": "markdown",
   "id": "80b6f9e7",
   "metadata": {},
   "source": [
    "# LogSpace numpy function in python"
   ]
  },
  {
   "cell_type": "code",
   "execution_count": 31,
   "id": "46d74f2b",
   "metadata": {},
   "outputs": [
    {
     "data": {
      "text/plain": [
       "array([ 1000.        ,  2154.43469003,  4641.58883361, 10000.        ])"
      ]
     },
     "execution_count": 31,
     "metadata": {},
     "output_type": "execute_result"
    }
   ],
   "source": [
    "import numpy as np\n",
    "np.logspace(3.0,4.0,num=4)"
   ]
  },
  {
   "cell_type": "markdown",
   "id": "1bf3c20c",
   "metadata": {},
   "source": [
    "# Indexing and slicing in python"
   ]
  },
  {
   "cell_type": "code",
   "execution_count": 32,
   "id": "d76ad617",
   "metadata": {},
   "outputs": [
    {
     "name": "stdout",
     "output_type": "stream",
     "text": [
      "[[1 2 3]\n",
      " [4 5 6]]\n"
     ]
    }
   ],
   "source": [
    "## Slice\n",
    "import numpy as np\n",
    "e=np.array([(1,2,3),\n",
    "            (4,5,6)])\n",
    "print(e)"
   ]
  },
  {
   "cell_type": "code",
   "execution_count": 33,
   "id": "0a239c23",
   "metadata": {},
   "outputs": [
    {
     "name": "stdout",
     "output_type": "stream",
     "text": [
      "First row: [1 2 3]\n",
      "second row : [4 5 6]\n"
     ]
    }
   ],
   "source": [
    "## First column\n",
    "print('First row:',e[0])\n",
    "## second col\n",
    "print('second row :',e[1])"
   ]
  },
  {
   "cell_type": "markdown",
   "id": "7b8a6e75",
   "metadata": {},
   "source": [
    "# Statistical functions in python(min,max,mean,median,standard deviation)"
   ]
  },
  {
   "cell_type": "code",
   "execution_count": 34,
   "id": "3d86aeae",
   "metadata": {},
   "outputs": [
    {
     "name": "stdout",
     "output_type": "stream",
     "text": [
      "[5.06898056 5.16457537 5.38608617 4.1592823  4.96049549 5.42202417\n",
      " 5.11011812 4.91891609 4.49381712 5.20188463]\n"
     ]
    }
   ],
   "source": [
    "import numpy as np\n",
    "normal_array=np.random.normal(5,0.5,10)\n",
    "print(normal_array)"
   ]
  },
  {
   "cell_type": "code",
   "execution_count": 36,
   "id": "0c8715ef",
   "metadata": {},
   "outputs": [
    {
     "name": "stdout",
     "output_type": "stream",
     "text": [
      "4.159282302749957\n",
      "5.422024166592277\n",
      "4.988618003605237\n",
      "5.0895493427641965\n",
      "0.37172042821737517\n"
     ]
    }
   ],
   "source": [
    "### min\n",
    "print(np.min(normal_array))\n",
    "### max\n",
    "print(np.max(normal_array))\n",
    "### mean\n",
    "print(np.mean(normal_array))\n",
    "### median\n",
    "print(np.median(normal_array))\n",
    "### sd\n",
    "print(np.std(normal_array))"
   ]
  },
  {
   "cell_type": "markdown",
   "id": "018636d1",
   "metadata": {},
   "source": [
    "# numpy dot products"
   ]
  },
  {
   "cell_type": "code",
   "execution_count": 37,
   "id": "46246108",
   "metadata": {},
   "outputs": [
    {
     "data": {
      "text/plain": [
       "14"
      ]
     },
     "execution_count": 37,
     "metadata": {},
     "output_type": "execute_result"
    }
   ],
   "source": [
    "## linear algebra\n",
    "### dot product: product of two arrays\n",
    "f=np.array([1,2])\n",
    "g=np.array([4,5])\n",
    "### 1*4+2*5\n",
    "np.dot(f,g)"
   ]
  },
  {
   "cell_type": "markdown",
   "id": "8bdfa8c2",
   "metadata": {},
   "source": [
    "# Matrix multiplication in python"
   ]
  },
  {
   "cell_type": "code",
   "execution_count": 38,
   "id": "7fb3f3eb",
   "metadata": {},
   "outputs": [
    {
     "data": {
      "text/plain": [
       "array([[19, 22],\n",
       "       [43, 50]])"
      ]
     },
     "execution_count": 38,
     "metadata": {},
     "output_type": "execute_result"
    }
   ],
   "source": [
    "### matmul:matruc product of two arrays\n",
    "h=[[1,2],[3,4]]\n",
    "i=[[5,6],[7,8]]\n",
    "### 1*5+2*7=19\n",
    "np.matmul(h,i)"
   ]
  },
  {
   "cell_type": "markdown",
   "id": "1289be0e",
   "metadata": {},
   "source": [
    "# Adding,removing,sorting elements"
   ]
  },
  {
   "cell_type": "code",
   "execution_count": 42,
   "id": "2ae7c34c",
   "metadata": {},
   "outputs": [
    {
     "name": "stdout",
     "output_type": "stream",
     "text": [
      "[ 1  2  3 10 11 12]\n"
     ]
    }
   ],
   "source": [
    "import numpy\n",
    "a=numpy.array([1,2,3])\n",
    "newarray=numpy.append(a,[10,11,12])\n",
    "print(newarray)"
   ]
  },
  {
   "cell_type": "code",
   "execution_count": 43,
   "id": "ca494a8f",
   "metadata": {},
   "outputs": [
    {
     "name": "stdout",
     "output_type": "stream",
     "text": [
      "[1 3]\n"
     ]
    }
   ],
   "source": [
    "import numpy\n",
    "a=numpy.array([1,2,3])\n",
    "newarray=numpy.delete(a,1,axis=0)\n",
    "print(newarray)"
   ]
  },
  {
   "cell_type": "code",
   "execution_count": 44,
   "id": "7ca77d13",
   "metadata": {},
   "outputs": [
    {
     "name": "stdout",
     "output_type": "stream",
     "text": [
      "sorted array= [ 1  2  3  6  8 10 16]\n"
     ]
    }
   ],
   "source": [
    "import numpy\n",
    "a=numpy.array([16,3,2,6,8,10,1])\n",
    "print(\"sorted array=\",numpy.sort(a))"
   ]
  },
  {
   "cell_type": "markdown",
   "id": "560ae80c",
   "metadata": {},
   "source": [
    "# Reverse an array"
   ]
  },
  {
   "cell_type": "code",
   "execution_count": 45,
   "id": "c611d73f",
   "metadata": {},
   "outputs": [
    {
     "name": "stdout",
     "output_type": "stream",
     "text": [
      "reversed array: [1 2 3 4 5 6 7 8 9]\n"
     ]
    }
   ],
   "source": [
    "arr=np.array([9,8,7,6,5,4,3,2,1])\n",
    "reversed_arr=np.flip(arr)\n",
    "print('reversed array:',reversed_arr)"
   ]
  },
  {
   "cell_type": "markdown",
   "id": "bb106735",
   "metadata": {},
   "source": [
    "# save and load numpy objects"
   ]
  },
  {
   "cell_type": "code",
   "execution_count": 47,
   "id": "985b8a6d",
   "metadata": {},
   "outputs": [
    {
     "name": "stdout",
     "output_type": "stream",
     "text": [
      "[7 8 9 4]\n"
     ]
    }
   ],
   "source": [
    "a=np.array([7,8,9,4])\n",
    "np.save('filename',a)\n",
    "b=np.load('filename.npy')\n",
    "print(b)"
   ]
  },
  {
   "cell_type": "code",
   "execution_count": null,
   "id": "e31dedee",
   "metadata": {},
   "outputs": [],
   "source": []
  }
 ],
 "metadata": {
  "kernelspec": {
   "display_name": "Python 3",
   "language": "python",
   "name": "python3"
  },
  "language_info": {
   "codemirror_mode": {
    "name": "ipython",
    "version": 3
   },
   "file_extension": ".py",
   "mimetype": "text/x-python",
   "name": "python",
   "nbconvert_exporter": "python",
   "pygments_lexer": "ipython3",
   "version": "3.8.8"
  }
 },
 "nbformat": 4,
 "nbformat_minor": 5
}
