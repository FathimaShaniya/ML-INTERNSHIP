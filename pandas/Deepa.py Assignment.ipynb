{
 "cells": [
  {
   "cell_type": "markdown",
   "id": "16a058a5",
   "metadata": {},
   "source": [
    "# Create an empty DataFrame"
   ]
  },
  {
   "cell_type": "code",
   "execution_count": 1,
   "id": "b3153faa",
   "metadata": {},
   "outputs": [],
   "source": [
    "#import the pandas library and aliasing as pd"
   ]
  },
  {
   "cell_type": "code",
   "execution_count": 2,
   "id": "a97f490d",
   "metadata": {},
   "outputs": [],
   "source": [
    "import pandas as pd"
   ]
  },
  {
   "cell_type": "code",
   "execution_count": 3,
   "id": "594ffa02",
   "metadata": {},
   "outputs": [],
   "source": [
    "df=pd.DataFrame()"
   ]
  },
  {
   "cell_type": "code",
   "execution_count": 5,
   "id": "7c813e6e",
   "metadata": {},
   "outputs": [
    {
     "name": "stdout",
     "output_type": "stream",
     "text": [
      "Empty DataFrame\n",
      "Columns: []\n",
      "Index: []\n"
     ]
    }
   ],
   "source": [
    "print(df)"
   ]
  },
  {
   "cell_type": "markdown",
   "id": "ba1b347e",
   "metadata": {},
   "source": [
    "# Create a DataFrame from Lists"
   ]
  },
  {
   "cell_type": "code",
   "execution_count": 6,
   "id": "1bf67bbc",
   "metadata": {},
   "outputs": [],
   "source": [
    "import pandas as pd"
   ]
  },
  {
   "cell_type": "code",
   "execution_count": 7,
   "id": "1376b488",
   "metadata": {},
   "outputs": [],
   "source": [
    "data=[6,7,8,9,10]"
   ]
  },
  {
   "cell_type": "code",
   "execution_count": 8,
   "id": "26724150",
   "metadata": {},
   "outputs": [],
   "source": [
    "df=pd.DataFrame(data)"
   ]
  },
  {
   "cell_type": "code",
   "execution_count": 10,
   "id": "00b41b6a",
   "metadata": {},
   "outputs": [
    {
     "name": "stdout",
     "output_type": "stream",
     "text": [
      "    0\n",
      "0   6\n",
      "1   7\n",
      "2   8\n",
      "3   9\n",
      "4  10\n"
     ]
    }
   ],
   "source": [
    "print(df)"
   ]
  },
  {
   "cell_type": "markdown",
   "id": "4d260b41",
   "metadata": {},
   "source": [
    "# Create a DataFrame from Dict of ndarrays/Lists"
   ]
  },
  {
   "cell_type": "code",
   "execution_count": 15,
   "id": "72a95929",
   "metadata": {},
   "outputs": [],
   "source": [
    "import pandas as pd"
   ]
  },
  {
   "cell_type": "code",
   "execution_count": 12,
   "id": "88e33545",
   "metadata": {},
   "outputs": [],
   "source": [
    "data={'Name':['Tom','Jack','Steve','Ricky'],'Age':[28,30,29,43]}"
   ]
  },
  {
   "cell_type": "code",
   "execution_count": 13,
   "id": "19b59b79",
   "metadata": {},
   "outputs": [],
   "source": [
    "df=pd.DataFrame(data)"
   ]
  },
  {
   "cell_type": "code",
   "execution_count": 14,
   "id": "b18fef90",
   "metadata": {},
   "outputs": [
    {
     "name": "stdout",
     "output_type": "stream",
     "text": [
      "    Name  Age\n",
      "0    Tom   28\n",
      "1   Jack   30\n",
      "2  Steve   29\n",
      "3  Ricky   43\n"
     ]
    }
   ],
   "source": [
    "print(df)"
   ]
  },
  {
   "cell_type": "markdown",
   "id": "7da63c1f",
   "metadata": {},
   "source": [
    "# Example 2"
   ]
  },
  {
   "cell_type": "code",
   "execution_count": 16,
   "id": "862bb962",
   "metadata": {},
   "outputs": [],
   "source": [
    "import pandas as pd\n"
   ]
  },
  {
   "cell_type": "code",
   "execution_count": 19,
   "id": "6de5c613",
   "metadata": {},
   "outputs": [],
   "source": [
    "data={'Name':['Tom','Jack','Steve','Ricky'],'Age':[28,30,29,43]}"
   ]
  },
  {
   "cell_type": "code",
   "execution_count": 20,
   "id": "7609b3ed",
   "metadata": {},
   "outputs": [],
   "source": [
    "df=pd.DataFrame(data,index=['rank1','rank2','rank3','rank4'])"
   ]
  },
  {
   "cell_type": "code",
   "execution_count": 21,
   "id": "5691d2c8",
   "metadata": {},
   "outputs": [
    {
     "name": "stdout",
     "output_type": "stream",
     "text": [
      "        Name  Age\n",
      "rank1    Tom   28\n",
      "rank2   Jack   30\n",
      "rank3  Steve   29\n",
      "rank4  Ricky   43\n"
     ]
    }
   ],
   "source": [
    "print(df)"
   ]
  },
  {
   "cell_type": "markdown",
   "id": "5ae53fc7",
   "metadata": {},
   "source": [
    "# Create a DataFrame from LIst of dicts"
   ]
  },
  {
   "cell_type": "markdown",
   "id": "2a9e401f",
   "metadata": {},
   "source": [
    "# Example 1"
   ]
  },
  {
   "cell_type": "code",
   "execution_count": 22,
   "id": "58657684",
   "metadata": {},
   "outputs": [],
   "source": [
    "import pandas as pd"
   ]
  },
  {
   "cell_type": "code",
   "execution_count": 23,
   "id": "4ed62bf0",
   "metadata": {},
   "outputs": [],
   "source": [
    "data=[{'a': 1,'b': 2},{'a': 5,'b': 10,'c': 20}]"
   ]
  },
  {
   "cell_type": "code",
   "execution_count": 25,
   "id": "952b22f0",
   "metadata": {},
   "outputs": [],
   "source": [
    "df=pd.DataFrame(data)"
   ]
  },
  {
   "cell_type": "code",
   "execution_count": 26,
   "id": "1311732c",
   "metadata": {},
   "outputs": [
    {
     "name": "stdout",
     "output_type": "stream",
     "text": [
      "   a   b     c\n",
      "0  1   2   NaN\n",
      "1  5  10  20.0\n"
     ]
    }
   ],
   "source": [
    "print(df)"
   ]
  },
  {
   "cell_type": "markdown",
   "id": "0d4b7484",
   "metadata": {},
   "source": [
    "# Example 2"
   ]
  },
  {
   "cell_type": "code",
   "execution_count": 28,
   "id": "31ea73dd",
   "metadata": {},
   "outputs": [],
   "source": [
    "import pandas as pd"
   ]
  },
  {
   "cell_type": "code",
   "execution_count": 29,
   "id": "ccd5562c",
   "metadata": {},
   "outputs": [],
   "source": [
    "data=[{'a': 1,'b': 2},{'a': 5,'b': 10,'c': 20}]"
   ]
  },
  {
   "cell_type": "code",
   "execution_count": 30,
   "id": "1bbdcc73",
   "metadata": {},
   "outputs": [],
   "source": [
    "df=pd.DataFrame(data,index=['first','second'])"
   ]
  },
  {
   "cell_type": "code",
   "execution_count": 31,
   "id": "037d6d40",
   "metadata": {},
   "outputs": [
    {
     "name": "stdout",
     "output_type": "stream",
     "text": [
      "   a   b     c\n",
      "0  1   2   NaN\n",
      "1  5  10  20.0\n"
     ]
    }
   ],
   "source": [
    "print(df)"
   ]
  }
 ],
 "metadata": {
  "kernelspec": {
   "display_name": "Python 3",
   "language": "python",
   "name": "python3"
  },
  "language_info": {
   "codemirror_mode": {
    "name": "ipython",
    "version": 3
   },
   "file_extension": ".py",
   "mimetype": "text/x-python",
   "name": "python",
   "nbconvert_exporter": "python",
   "pygments_lexer": "ipython3",
   "version": "3.8.8"
  }
 },
 "nbformat": 4,
 "nbformat_minor": 5
}
