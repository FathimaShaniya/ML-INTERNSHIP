{
 "cells": [
  {
   "cell_type": "code",
   "execution_count": 1,
   "id": "272114ad",
   "metadata": {},
   "outputs": [],
   "source": [
    "import numpy as np"
   ]
  },
  {
   "cell_type": "markdown",
   "id": "d572bbde",
   "metadata": {},
   "source": [
    "# How to create a basic array"
   ]
  },
  {
   "cell_type": "code",
   "execution_count": 2,
   "id": "70637c68",
   "metadata": {},
   "outputs": [],
   "source": [
    "a=np.array([1,2,3,4,5])"
   ]
  },
  {
   "cell_type": "code",
   "execution_count": 3,
   "id": "649024cb",
   "metadata": {},
   "outputs": [
    {
     "data": {
      "text/plain": [
       "array([1, 2, 3, 4, 5])"
      ]
     },
     "execution_count": 3,
     "metadata": {},
     "output_type": "execute_result"
    }
   ],
   "source": [
    "a"
   ]
  },
  {
   "cell_type": "code",
   "execution_count": 4,
   "id": "fc6e8df7",
   "metadata": {},
   "outputs": [
    {
     "data": {
      "text/plain": [
       "array([0.])"
      ]
     },
     "execution_count": 4,
     "metadata": {},
     "output_type": "execute_result"
    }
   ],
   "source": [
    "np.zeros(1)"
   ]
  },
  {
   "cell_type": "code",
   "execution_count": 5,
   "id": "2f69881b",
   "metadata": {},
   "outputs": [
    {
     "data": {
      "text/plain": [
       "array([0., 0.])"
      ]
     },
     "execution_count": 5,
     "metadata": {},
     "output_type": "execute_result"
    }
   ],
   "source": [
    "np.zeros(2)"
   ]
  },
  {
   "cell_type": "code",
   "execution_count": 6,
   "id": "95716a6f",
   "metadata": {},
   "outputs": [
    {
     "data": {
      "text/plain": [
       "array([0., 0., 0.])"
      ]
     },
     "execution_count": 6,
     "metadata": {},
     "output_type": "execute_result"
    }
   ],
   "source": [
    "np.zeros(3)"
   ]
  },
  {
   "cell_type": "code",
   "execution_count": 7,
   "id": "8f3a47e0",
   "metadata": {},
   "outputs": [
    {
     "data": {
      "text/plain": [
       "array([1., 1.])"
      ]
     },
     "execution_count": 7,
     "metadata": {},
     "output_type": "execute_result"
    }
   ],
   "source": [
    "np.ones(2)"
   ]
  },
  {
   "cell_type": "code",
   "execution_count": 8,
   "id": "66ef6251",
   "metadata": {},
   "outputs": [
    {
     "data": {
      "text/plain": [
       "array([2.12199579e-314, 0.00000000e+000, 7.94457559e-321, 2.86469432e-312])"
      ]
     },
     "execution_count": 8,
     "metadata": {},
     "output_type": "execute_result"
    }
   ],
   "source": [
    "np.empty(4)"
   ]
  },
  {
   "cell_type": "code",
   "execution_count": 9,
   "id": "0c2ff31b",
   "metadata": {},
   "outputs": [
    {
     "data": {
      "text/plain": [
       "array([0, 1, 2, 3, 4, 5, 6, 7, 8, 9])"
      ]
     },
     "execution_count": 9,
     "metadata": {},
     "output_type": "execute_result"
    }
   ],
   "source": [
    "np.arange(10)"
   ]
  },
  {
   "cell_type": "code",
   "execution_count": 10,
   "id": "05b0eb8c",
   "metadata": {},
   "outputs": [
    {
     "data": {
      "text/plain": [
       "array([3, 6, 9])"
      ]
     },
     "execution_count": 10,
     "metadata": {},
     "output_type": "execute_result"
    }
   ],
   "source": [
    "np.arange(3,12,3)"
   ]
  },
  {
   "cell_type": "code",
   "execution_count": 11,
   "id": "12828941",
   "metadata": {},
   "outputs": [
    {
     "data": {
      "text/plain": [
       "array([ 1.        ,  4.66666667,  8.33333333, 12.        ])"
      ]
     },
     "execution_count": 11,
     "metadata": {},
     "output_type": "execute_result"
    }
   ],
   "source": [
    "np.linspace(1,12,4)"
   ]
  },
  {
   "cell_type": "code",
   "execution_count": 12,
   "id": "de554cad",
   "metadata": {},
   "outputs": [],
   "source": [
    "x=np.ones(4, dtype=np.int32)"
   ]
  },
  {
   "cell_type": "code",
   "execution_count": 13,
   "id": "9225b944",
   "metadata": {},
   "outputs": [
    {
     "data": {
      "text/plain": [
       "array([1, 1, 1, 1])"
      ]
     },
     "execution_count": 13,
     "metadata": {},
     "output_type": "execute_result"
    }
   ],
   "source": [
    "x"
   ]
  },
  {
   "cell_type": "markdown",
   "id": "28442d6d",
   "metadata": {},
   "source": [
    "# Adding,removing and sorting elements"
   ]
  },
  {
   "cell_type": "code",
   "execution_count": 14,
   "id": "8726081a",
   "metadata": {},
   "outputs": [],
   "source": [
    "ar=np.array([1,2,5,6,7,4,9])"
   ]
  },
  {
   "cell_type": "code",
   "execution_count": 15,
   "id": "04cdbbee",
   "metadata": {},
   "outputs": [
    {
     "data": {
      "text/plain": [
       "array([1, 2, 5, 6, 7, 4, 9])"
      ]
     },
     "execution_count": 15,
     "metadata": {},
     "output_type": "execute_result"
    }
   ],
   "source": [
    "ar"
   ]
  },
  {
   "cell_type": "code",
   "execution_count": 16,
   "id": "60e3d3ef",
   "metadata": {},
   "outputs": [
    {
     "data": {
      "text/plain": [
       "array([1, 2, 4, 5, 6, 7, 9])"
      ]
     },
     "execution_count": 16,
     "metadata": {},
     "output_type": "execute_result"
    }
   ],
   "source": [
    "np.sort(ar)"
   ]
  },
  {
   "cell_type": "code",
   "execution_count": 17,
   "id": "efdeb458",
   "metadata": {},
   "outputs": [
    {
     "data": {
      "text/plain": [
       "0"
      ]
     },
     "execution_count": 17,
     "metadata": {},
     "output_type": "execute_result"
    }
   ],
   "source": [
    "np.lexsort(ar)"
   ]
  },
  {
   "cell_type": "code",
   "execution_count": 18,
   "id": "cc97b2fc",
   "metadata": {},
   "outputs": [
    {
     "data": {
      "text/plain": [
       "array([0, 1, 5, 2, 3, 4, 6], dtype=int64)"
      ]
     },
     "execution_count": 18,
     "metadata": {},
     "output_type": "execute_result"
    }
   ],
   "source": [
    "np.argsort(ar)"
   ]
  },
  {
   "cell_type": "code",
   "execution_count": 19,
   "id": "52423fb7",
   "metadata": {},
   "outputs": [
    {
     "data": {
      "text/plain": [
       "array([4, 1, 5, 2, 6, 7, 9])"
      ]
     },
     "execution_count": 19,
     "metadata": {},
     "output_type": "execute_result"
    }
   ],
   "source": [
    "np.partition(ar, 6)"
   ]
  },
  {
   "cell_type": "code",
   "execution_count": 20,
   "id": "d2c9d409",
   "metadata": {},
   "outputs": [
    {
     "data": {
      "text/plain": [
       "2"
      ]
     },
     "execution_count": 20,
     "metadata": {},
     "output_type": "execute_result"
    }
   ],
   "source": [
    "np.searchsorted(ar, 4)"
   ]
  },
  {
   "cell_type": "code",
   "execution_count": 21,
   "id": "b73f008a",
   "metadata": {},
   "outputs": [],
   "source": [
    "a=np.array([1,2,3,4])\n",
    "b=np.array([2,4,6,7])"
   ]
  },
  {
   "cell_type": "code",
   "execution_count": 22,
   "id": "f04fd35f",
   "metadata": {},
   "outputs": [
    {
     "data": {
      "text/plain": [
       "array([1, 2, 3, 4, 2, 4, 6, 7])"
      ]
     },
     "execution_count": 22,
     "metadata": {},
     "output_type": "execute_result"
    }
   ],
   "source": [
    "np.concatenate((a,b))"
   ]
  },
  {
   "cell_type": "code",
   "execution_count": 23,
   "id": "6d9a537d",
   "metadata": {},
   "outputs": [],
   "source": [
    "x=np.array([[2,4],[3,5]])\n",
    "y=np.array([[5,7],[6,5]])"
   ]
  },
  {
   "cell_type": "code",
   "execution_count": 24,
   "id": "f4a545dd",
   "metadata": {},
   "outputs": [
    {
     "data": {
      "text/plain": [
       "array([[2, 4],\n",
       "       [3, 5],\n",
       "       [5, 7],\n",
       "       [6, 5]])"
      ]
     },
     "execution_count": 24,
     "metadata": {},
     "output_type": "execute_result"
    }
   ],
   "source": [
    "np.concatenate((x,y))"
   ]
  },
  {
   "cell_type": "code",
   "execution_count": 25,
   "id": "7a077f97",
   "metadata": {},
   "outputs": [
    {
     "data": {
      "text/plain": [
       "array([2, 4, 3, 5])"
      ]
     },
     "execution_count": 25,
     "metadata": {},
     "output_type": "execute_result"
    }
   ],
   "source": [
    "np.concatenate((x), axis=0)"
   ]
  },
  {
   "cell_type": "markdown",
   "id": "154fe392",
   "metadata": {},
   "source": [
    "# shape and size of an array"
   ]
  },
  {
   "cell_type": "code",
   "execution_count": 26,
   "id": "1514185b",
   "metadata": {},
   "outputs": [],
   "source": [
    "ar=np.array([[1,2,4],[5,4,7],[7,8,0]])"
   ]
  },
  {
   "cell_type": "code",
   "execution_count": 27,
   "id": "6c1f7aae",
   "metadata": {},
   "outputs": [
    {
     "data": {
      "text/plain": [
       "array([[1, 2, 4],\n",
       "       [5, 4, 7],\n",
       "       [7, 8, 0]])"
      ]
     },
     "execution_count": 27,
     "metadata": {},
     "output_type": "execute_result"
    }
   ],
   "source": [
    "ar"
   ]
  },
  {
   "cell_type": "code",
   "execution_count": 28,
   "id": "5f93f75d",
   "metadata": {},
   "outputs": [
    {
     "data": {
      "text/plain": [
       "2"
      ]
     },
     "execution_count": 28,
     "metadata": {},
     "output_type": "execute_result"
    }
   ],
   "source": [
    "ar.ndim"
   ]
  },
  {
   "cell_type": "code",
   "execution_count": 29,
   "id": "398bf6da",
   "metadata": {},
   "outputs": [
    {
     "data": {
      "text/plain": [
       "9"
      ]
     },
     "execution_count": 29,
     "metadata": {},
     "output_type": "execute_result"
    }
   ],
   "source": [
    "ar.size"
   ]
  },
  {
   "cell_type": "code",
   "execution_count": 30,
   "id": "3d65a550",
   "metadata": {},
   "outputs": [
    {
     "data": {
      "text/plain": [
       "(3, 3)"
      ]
     },
     "execution_count": 30,
     "metadata": {},
     "output_type": "execute_result"
    }
   ],
   "source": [
    "ar.shape"
   ]
  },
  {
   "cell_type": "markdown",
   "id": "474a8cb5",
   "metadata": {},
   "source": [
    "# reshape an array"
   ]
  },
  {
   "cell_type": "code",
   "execution_count": 31,
   "id": "5b4040ea",
   "metadata": {},
   "outputs": [],
   "source": [
    "a=np.arange(20)"
   ]
  },
  {
   "cell_type": "code",
   "execution_count": 32,
   "id": "0c402a59",
   "metadata": {},
   "outputs": [
    {
     "data": {
      "text/plain": [
       "array([ 0,  1,  2,  3,  4,  5,  6,  7,  8,  9, 10, 11, 12, 13, 14, 15, 16,\n",
       "       17, 18, 19])"
      ]
     },
     "execution_count": 32,
     "metadata": {},
     "output_type": "execute_result"
    }
   ],
   "source": [
    "a"
   ]
  },
  {
   "cell_type": "code",
   "execution_count": 33,
   "id": "ac4fc25c",
   "metadata": {},
   "outputs": [
    {
     "data": {
      "text/plain": [
       "array([[ 0,  1],\n",
       "       [ 2,  3],\n",
       "       [ 4,  5],\n",
       "       [ 6,  7],\n",
       "       [ 8,  9],\n",
       "       [10, 11],\n",
       "       [12, 13],\n",
       "       [14, 15],\n",
       "       [16, 17],\n",
       "       [18, 19]])"
      ]
     },
     "execution_count": 33,
     "metadata": {},
     "output_type": "execute_result"
    }
   ],
   "source": [
    "a.reshape(10,2)"
   ]
  },
  {
   "cell_type": "code",
   "execution_count": 34,
   "id": "bd1c2aa3",
   "metadata": {},
   "outputs": [
    {
     "data": {
      "text/plain": [
       "array([ 0,  1,  2,  3,  4,  5,  6,  7,  8,  9, 10, 11, 12, 13, 14, 15, 16,\n",
       "       17, 18, 19])"
      ]
     },
     "execution_count": 34,
     "metadata": {},
     "output_type": "execute_result"
    }
   ],
   "source": [
    "a.ravel()"
   ]
  },
  {
   "cell_type": "markdown",
   "id": "6066b12a",
   "metadata": {},
   "source": [
    "# Covert 1D array into a 2D array(add new axis to an array)"
   ]
  },
  {
   "cell_type": "code",
   "execution_count": 35,
   "id": "57ded000",
   "metadata": {},
   "outputs": [],
   "source": [
    "a=np.array([3,6,8,9])"
   ]
  },
  {
   "cell_type": "code",
   "execution_count": 36,
   "id": "4f4eac84",
   "metadata": {},
   "outputs": [
    {
     "data": {
      "text/plain": [
       "(4,)"
      ]
     },
     "execution_count": 36,
     "metadata": {},
     "output_type": "execute_result"
    }
   ],
   "source": [
    "a.shape"
   ]
  },
  {
   "cell_type": "code",
   "execution_count": 37,
   "id": "1d30743c",
   "metadata": {},
   "outputs": [],
   "source": [
    "a2=a[np.newaxis, :]"
   ]
  },
  {
   "cell_type": "code",
   "execution_count": 38,
   "id": "8ea8fc7f",
   "metadata": {},
   "outputs": [
    {
     "data": {
      "text/plain": [
       "(1, 4)"
      ]
     },
     "execution_count": 38,
     "metadata": {},
     "output_type": "execute_result"
    }
   ],
   "source": [
    "a2.shape"
   ]
  },
  {
   "cell_type": "code",
   "execution_count": 39,
   "id": "26a0f653",
   "metadata": {},
   "outputs": [],
   "source": [
    "row_vector=a[np.newaxis, :]"
   ]
  },
  {
   "cell_type": "code",
   "execution_count": 40,
   "id": "8e50adc8",
   "metadata": {},
   "outputs": [
    {
     "data": {
      "text/plain": [
       "(1, 4)"
      ]
     },
     "execution_count": 40,
     "metadata": {},
     "output_type": "execute_result"
    }
   ],
   "source": [
    "row_vector.shape"
   ]
  },
  {
   "cell_type": "code",
   "execution_count": 41,
   "id": "8edad0de",
   "metadata": {},
   "outputs": [],
   "source": [
    "col_vector=a[:, np.newaxis]"
   ]
  },
  {
   "cell_type": "code",
   "execution_count": 42,
   "id": "89031599",
   "metadata": {},
   "outputs": [
    {
     "data": {
      "text/plain": [
       "(4, 1)"
      ]
     },
     "execution_count": 42,
     "metadata": {},
     "output_type": "execute_result"
    }
   ],
   "source": [
    "col_vector.shape"
   ]
  },
  {
   "cell_type": "markdown",
   "id": "7511e3dd",
   "metadata": {},
   "source": [
    "# changing an element in an array"
   ]
  },
  {
   "cell_type": "code",
   "execution_count": 43,
   "id": "c8afaecc",
   "metadata": {},
   "outputs": [],
   "source": [
    "a[0]=4"
   ]
  },
  {
   "cell_type": "code",
   "execution_count": 44,
   "id": "a88c1cea",
   "metadata": {},
   "outputs": [
    {
     "data": {
      "text/plain": [
       "array([4, 6, 8, 9])"
      ]
     },
     "execution_count": 44,
     "metadata": {},
     "output_type": "execute_result"
    }
   ],
   "source": [
    "a"
   ]
  },
  {
   "cell_type": "markdown",
   "id": "e740858c",
   "metadata": {},
   "source": [
    "# indexing and slicing"
   ]
  },
  {
   "cell_type": "code",
   "execution_count": 45,
   "id": "f5c19e7e",
   "metadata": {},
   "outputs": [],
   "source": [
    "ind=np.array([5,6,7,8])"
   ]
  },
  {
   "cell_type": "code",
   "execution_count": 46,
   "id": "7dc60484",
   "metadata": {},
   "outputs": [
    {
     "data": {
      "text/plain": [
       "8"
      ]
     },
     "execution_count": 46,
     "metadata": {},
     "output_type": "execute_result"
    }
   ],
   "source": [
    "ind[3]"
   ]
  },
  {
   "cell_type": "code",
   "execution_count": 47,
   "id": "69083d8a",
   "metadata": {},
   "outputs": [
    {
     "data": {
      "text/plain": [
       "array([5, 6])"
      ]
     },
     "execution_count": 47,
     "metadata": {},
     "output_type": "execute_result"
    }
   ],
   "source": [
    "ind[0:2]"
   ]
  },
  {
   "cell_type": "code",
   "execution_count": 48,
   "id": "13628e1b",
   "metadata": {},
   "outputs": [
    {
     "data": {
      "text/plain": [
       "array([5])"
      ]
     },
     "execution_count": 48,
     "metadata": {},
     "output_type": "execute_result"
    }
   ],
   "source": [
    "ind[0:1]"
   ]
  },
  {
   "cell_type": "code",
   "execution_count": 49,
   "id": "386773a4",
   "metadata": {},
   "outputs": [
    {
     "data": {
      "text/plain": [
       "array([7, 8])"
      ]
     },
     "execution_count": 49,
     "metadata": {},
     "output_type": "execute_result"
    }
   ],
   "source": [
    "ind[-2:]"
   ]
  },
  {
   "cell_type": "code",
   "execution_count": 50,
   "id": "e4f20698",
   "metadata": {},
   "outputs": [],
   "source": [
    "a=np.array([[1,3,4,5],[4,5,6,2],[15,6,18,9],[9,11,5,8]])"
   ]
  },
  {
   "cell_type": "code",
   "execution_count": 51,
   "id": "e106b022",
   "metadata": {},
   "outputs": [
    {
     "data": {
      "text/plain": [
       "array([[ 1,  3,  4,  5],\n",
       "       [ 4,  5,  6,  2],\n",
       "       [15,  6, 18,  9],\n",
       "       [ 9, 11,  5,  8]])"
      ]
     },
     "execution_count": 51,
     "metadata": {},
     "output_type": "execute_result"
    }
   ],
   "source": [
    "a"
   ]
  },
  {
   "cell_type": "code",
   "execution_count": 52,
   "id": "e7ab1e61",
   "metadata": {},
   "outputs": [
    {
     "name": "stdout",
     "output_type": "stream",
     "text": [
      "[1 3 4 5 4 5 6 2 6 9 9 5 8]\n"
     ]
    }
   ],
   "source": [
    "print(a[a<11])"
   ]
  },
  {
   "cell_type": "code",
   "execution_count": 53,
   "id": "f808b5a6",
   "metadata": {},
   "outputs": [],
   "source": [
    "aa=(a>=11)"
   ]
  },
  {
   "cell_type": "code",
   "execution_count": 54,
   "id": "bf8a50ed",
   "metadata": {},
   "outputs": [
    {
     "name": "stdout",
     "output_type": "stream",
     "text": [
      "[15 18 11]\n"
     ]
    }
   ],
   "source": [
    "print(a[aa])"
   ]
  },
  {
   "cell_type": "code",
   "execution_count": 55,
   "id": "2165a9fe",
   "metadata": {},
   "outputs": [
    {
     "data": {
      "text/plain": [
       "array([[ 1,  3,  4,  5],\n",
       "       [ 2,  4,  5,  6],\n",
       "       [ 6,  9, 15, 18],\n",
       "       [ 5,  8,  9, 11]])"
      ]
     },
     "execution_count": 55,
     "metadata": {},
     "output_type": "execute_result"
    }
   ],
   "source": [
    "np.sort(a)"
   ]
  },
  {
   "cell_type": "code",
   "execution_count": 56,
   "id": "7dd670a4",
   "metadata": {},
   "outputs": [],
   "source": [
    "div=a[a%3==0]"
   ]
  },
  {
   "cell_type": "code",
   "execution_count": 57,
   "id": "3c8a0930",
   "metadata": {},
   "outputs": [
    {
     "name": "stdout",
     "output_type": "stream",
     "text": [
      "[ 3  6 15  6 18  9  9]\n"
     ]
    }
   ],
   "source": [
    "print(div)"
   ]
  },
  {
   "cell_type": "code",
   "execution_count": 58,
   "id": "c038bd18",
   "metadata": {},
   "outputs": [],
   "source": [
    "c=a[(a>3) & (a<11)]"
   ]
  },
  {
   "cell_type": "code",
   "execution_count": 59,
   "id": "f3bed640",
   "metadata": {},
   "outputs": [
    {
     "name": "stdout",
     "output_type": "stream",
     "text": [
      "[4 5 4 5 6 6 9 9 5 8]\n"
     ]
    }
   ],
   "source": [
    "print(c)"
   ]
  },
  {
   "cell_type": "code",
   "execution_count": 60,
   "id": "b4c66ef9",
   "metadata": {},
   "outputs": [],
   "source": [
    "bb=(a>6) | (a==6)"
   ]
  },
  {
   "cell_type": "code",
   "execution_count": 61,
   "id": "28f7b9a0",
   "metadata": {},
   "outputs": [
    {
     "name": "stdout",
     "output_type": "stream",
     "text": [
      "[[False False False False]\n",
      " [False False  True False]\n",
      " [ True  True  True  True]\n",
      " [ True  True False  True]]\n"
     ]
    }
   ],
   "source": [
    "print(bb)"
   ]
  },
  {
   "cell_type": "code",
   "execution_count": 62,
   "id": "7b9d5162",
   "metadata": {},
   "outputs": [
    {
     "data": {
      "text/plain": [
       "array([[ 1,  3,  4,  5],\n",
       "       [ 4,  5,  6,  2],\n",
       "       [15,  6, 18,  9],\n",
       "       [ 9, 11,  5,  8]])"
      ]
     },
     "execution_count": 62,
     "metadata": {},
     "output_type": "execute_result"
    }
   ],
   "source": [
    "a"
   ]
  },
  {
   "cell_type": "code",
   "execution_count": 63,
   "id": "23157ce0",
   "metadata": {},
   "outputs": [],
   "source": [
    "b=np.nonzero(a<5)"
   ]
  },
  {
   "cell_type": "code",
   "execution_count": 64,
   "id": "1808f0ab",
   "metadata": {},
   "outputs": [
    {
     "name": "stdout",
     "output_type": "stream",
     "text": [
      "(array([0, 0, 0, 1, 1], dtype=int64), array([0, 1, 2, 0, 3], dtype=int64))\n"
     ]
    }
   ],
   "source": [
    "print(b)"
   ]
  },
  {
   "cell_type": "code",
   "execution_count": 65,
   "id": "c07d0806",
   "metadata": {},
   "outputs": [],
   "source": [
    "list_of_coordinates=list(zip(b[0],b[1]))"
   ]
  },
  {
   "cell_type": "code",
   "execution_count": 66,
   "id": "297cbfe7",
   "metadata": {},
   "outputs": [
    {
     "name": "stdout",
     "output_type": "stream",
     "text": [
      "(0, 0)\n",
      "(0, 1)\n",
      "(0, 2)\n",
      "(1, 0)\n",
      "(1, 3)\n"
     ]
    }
   ],
   "source": [
    "for coord in list_of_coordinates:\n",
    "    print(coord)"
   ]
  },
  {
   "cell_type": "code",
   "execution_count": 67,
   "id": "a014d41d",
   "metadata": {},
   "outputs": [
    {
     "name": "stdout",
     "output_type": "stream",
     "text": [
      "[1 3 4 4 2]\n"
     ]
    }
   ],
   "source": [
    "print(a[b])"
   ]
  },
  {
   "cell_type": "code",
   "execution_count": 68,
   "id": "09107c45",
   "metadata": {},
   "outputs": [],
   "source": [
    "not_there=np.nonzero(a==42)"
   ]
  },
  {
   "cell_type": "code",
   "execution_count": 69,
   "id": "51a53773",
   "metadata": {},
   "outputs": [
    {
     "name": "stdout",
     "output_type": "stream",
     "text": [
      "(array([], dtype=int64), array([], dtype=int64))\n"
     ]
    }
   ],
   "source": [
    "print(not_there)"
   ]
  },
  {
   "cell_type": "markdown",
   "id": "c00e6c19",
   "metadata": {},
   "source": [
    "# create an array from existing data"
   ]
  },
  {
   "cell_type": "code",
   "execution_count": 70,
   "id": "272ad034",
   "metadata": {},
   "outputs": [],
   "source": [
    "a=np.array([1,2,3,4,5,6,7,8,9,10,11,12,13,14,15])"
   ]
  },
  {
   "cell_type": "code",
   "execution_count": 71,
   "id": "08177507",
   "metadata": {},
   "outputs": [],
   "source": [
    "ar1=a[3:8]"
   ]
  },
  {
   "cell_type": "code",
   "execution_count": 72,
   "id": "2345ed4d",
   "metadata": {},
   "outputs": [
    {
     "data": {
      "text/plain": [
       "array([4, 5, 6, 7, 8])"
      ]
     },
     "execution_count": 72,
     "metadata": {},
     "output_type": "execute_result"
    }
   ],
   "source": [
    "ar1"
   ]
  },
  {
   "cell_type": "code",
   "execution_count": 73,
   "id": "92fca873",
   "metadata": {},
   "outputs": [],
   "source": [
    "a1=np.array([[1,1],\n",
    "           [2,2]])\n",
    "a2=np.array([[3,3],[4,4]])"
   ]
  },
  {
   "cell_type": "code",
   "execution_count": 74,
   "id": "03690ed3",
   "metadata": {},
   "outputs": [
    {
     "data": {
      "text/plain": [
       "array([[1, 1],\n",
       "       [2, 2],\n",
       "       [3, 3],\n",
       "       [4, 4]])"
      ]
     },
     "execution_count": 74,
     "metadata": {},
     "output_type": "execute_result"
    }
   ],
   "source": [
    "np.vstack((a1,a2))"
   ]
  },
  {
   "cell_type": "code",
   "execution_count": 75,
   "id": "115b1549",
   "metadata": {},
   "outputs": [
    {
     "data": {
      "text/plain": [
       "array([[1, 1, 3, 3],\n",
       "       [2, 2, 4, 4]])"
      ]
     },
     "execution_count": 75,
     "metadata": {},
     "output_type": "execute_result"
    }
   ],
   "source": [
    "np.hstack((a1,a2))"
   ]
  },
  {
   "cell_type": "code",
   "execution_count": 76,
   "id": "5e497d17",
   "metadata": {},
   "outputs": [],
   "source": [
    "x=np.arange(1,25).reshape(2,12)"
   ]
  },
  {
   "cell_type": "code",
   "execution_count": 77,
   "id": "b065fc1e",
   "metadata": {},
   "outputs": [
    {
     "data": {
      "text/plain": [
       "array([[ 1,  2,  3,  4,  5,  6,  7,  8,  9, 10, 11, 12],\n",
       "       [13, 14, 15, 16, 17, 18, 19, 20, 21, 22, 23, 24]])"
      ]
     },
     "execution_count": 77,
     "metadata": {},
     "output_type": "execute_result"
    }
   ],
   "source": [
    "x"
   ]
  },
  {
   "cell_type": "code",
   "execution_count": 78,
   "id": "1c103c6a",
   "metadata": {},
   "outputs": [
    {
     "data": {
      "text/plain": [
       "[array([[ 1,  2,  3,  4],\n",
       "        [13, 14, 15, 16]]),\n",
       " array([[ 5,  6,  7,  8],\n",
       "        [17, 18, 19, 20]]),\n",
       " array([[ 9, 10, 11, 12],\n",
       "        [21, 22, 23, 24]])]"
      ]
     },
     "execution_count": 78,
     "metadata": {},
     "output_type": "execute_result"
    }
   ],
   "source": [
    "np.hsplit(x,3)"
   ]
  },
  {
   "cell_type": "code",
   "execution_count": 79,
   "id": "aa8151ec",
   "metadata": {},
   "outputs": [
    {
     "data": {
      "text/plain": [
       "[array([[ 1,  2,  3],\n",
       "        [13, 14, 15]]),\n",
       " array([[ 4],\n",
       "        [16]]),\n",
       " array([[ 5,  6,  7,  8,  9, 10, 11, 12],\n",
       "        [17, 18, 19, 20, 21, 22, 23, 24]])]"
      ]
     },
     "execution_count": 79,
     "metadata": {},
     "output_type": "execute_result"
    }
   ],
   "source": [
    "np.hsplit(x,(3,4))"
   ]
  },
  {
   "cell_type": "markdown",
   "id": "a511ea57",
   "metadata": {},
   "source": [
    "# Basic array operations"
   ]
  },
  {
   "cell_type": "code",
   "execution_count": 80,
   "id": "0dd56369",
   "metadata": {},
   "outputs": [],
   "source": [
    "ar=np.array([1,2,3,4,5])"
   ]
  },
  {
   "cell_type": "code",
   "execution_count": 81,
   "id": "2adbfd76",
   "metadata": {},
   "outputs": [],
   "source": [
    "ones=np.ones(5,dtype=int)"
   ]
  },
  {
   "cell_type": "code",
   "execution_count": 82,
   "id": "1882f53f",
   "metadata": {},
   "outputs": [
    {
     "data": {
      "text/plain": [
       "array([2, 3, 4, 5, 6])"
      ]
     },
     "execution_count": 82,
     "metadata": {},
     "output_type": "execute_result"
    }
   ],
   "source": [
    "ar+ones"
   ]
  },
  {
   "cell_type": "code",
   "execution_count": 83,
   "id": "64c42ee9",
   "metadata": {},
   "outputs": [
    {
     "data": {
      "text/plain": [
       "array([0, 1, 2, 3, 4])"
      ]
     },
     "execution_count": 83,
     "metadata": {},
     "output_type": "execute_result"
    }
   ],
   "source": [
    "ar-ones"
   ]
  },
  {
   "cell_type": "code",
   "execution_count": 84,
   "id": "db4663d1",
   "metadata": {},
   "outputs": [
    {
     "data": {
      "text/plain": [
       "array([ 1,  4,  9, 16, 25])"
      ]
     },
     "execution_count": 84,
     "metadata": {},
     "output_type": "execute_result"
    }
   ],
   "source": [
    "ar*ar"
   ]
  },
  {
   "cell_type": "code",
   "execution_count": 85,
   "id": "0db9e879",
   "metadata": {},
   "outputs": [
    {
     "data": {
      "text/plain": [
       "array([1., 1., 1., 1., 1.])"
      ]
     },
     "execution_count": 85,
     "metadata": {},
     "output_type": "execute_result"
    }
   ],
   "source": [
    "ar/ar"
   ]
  },
  {
   "cell_type": "code",
   "execution_count": 86,
   "id": "58006d16",
   "metadata": {},
   "outputs": [
    {
     "data": {
      "text/plain": [
       "15"
      ]
     },
     "execution_count": 86,
     "metadata": {},
     "output_type": "execute_result"
    }
   ],
   "source": [
    "ar.sum()"
   ]
  },
  {
   "cell_type": "code",
   "execution_count": 87,
   "id": "c6dab817",
   "metadata": {},
   "outputs": [],
   "source": [
    "b=np.array([[1,2,3],[4,5,2],[6,7,3]])\n"
   ]
  },
  {
   "cell_type": "code",
   "execution_count": 88,
   "id": "752d7d8c",
   "metadata": {},
   "outputs": [
    {
     "data": {
      "text/plain": [
       "array([[1, 2, 3],\n",
       "       [4, 5, 2],\n",
       "       [6, 7, 3]])"
      ]
     },
     "execution_count": 88,
     "metadata": {},
     "output_type": "execute_result"
    }
   ],
   "source": [
    "b"
   ]
  },
  {
   "cell_type": "code",
   "execution_count": 89,
   "id": "da472711",
   "metadata": {},
   "outputs": [
    {
     "data": {
      "text/plain": [
       "array([11, 14,  8])"
      ]
     },
     "execution_count": 89,
     "metadata": {},
     "output_type": "execute_result"
    }
   ],
   "source": [
    "b.sum(axis=0)"
   ]
  },
  {
   "cell_type": "code",
   "execution_count": 90,
   "id": "efbdad54",
   "metadata": {},
   "outputs": [
    {
     "data": {
      "text/plain": [
       "array([ 6, 11, 16])"
      ]
     },
     "execution_count": 90,
     "metadata": {},
     "output_type": "execute_result"
    }
   ],
   "source": [
    "b.sum(axis=1)"
   ]
  },
  {
   "cell_type": "markdown",
   "id": "b8c18458",
   "metadata": {},
   "source": [
    "# Brodcasting"
   ]
  },
  {
   "cell_type": "code",
   "execution_count": 91,
   "id": "e26f178b",
   "metadata": {},
   "outputs": [],
   "source": [
    "dd=np.array([1.0,2.0,3.0,4.0])"
   ]
  },
  {
   "cell_type": "code",
   "execution_count": 92,
   "id": "d23190b6",
   "metadata": {},
   "outputs": [
    {
     "data": {
      "text/plain": [
       "array([2.2, 4.4, 6.6, 8.8])"
      ]
     },
     "execution_count": 92,
     "metadata": {},
     "output_type": "execute_result"
    }
   ],
   "source": [
    "dd*2.2"
   ]
  },
  {
   "cell_type": "markdown",
   "id": "1b047734",
   "metadata": {},
   "source": [
    "# More useful array oprerations"
   ]
  },
  {
   "cell_type": "code",
   "execution_count": 93,
   "id": "764d550f",
   "metadata": {},
   "outputs": [
    {
     "data": {
      "text/plain": [
       "4.0"
      ]
     },
     "execution_count": 93,
     "metadata": {},
     "output_type": "execute_result"
    }
   ],
   "source": [
    "dd.max()"
   ]
  },
  {
   "cell_type": "code",
   "execution_count": 94,
   "id": "028e29d8",
   "metadata": {},
   "outputs": [
    {
     "data": {
      "text/plain": [
       "1.0"
      ]
     },
     "execution_count": 94,
     "metadata": {},
     "output_type": "execute_result"
    }
   ],
   "source": [
    "dd.min()"
   ]
  },
  {
   "cell_type": "code",
   "execution_count": 95,
   "id": "5005e8da",
   "metadata": {},
   "outputs": [
    {
     "data": {
      "text/plain": [
       "10.0"
      ]
     },
     "execution_count": 95,
     "metadata": {},
     "output_type": "execute_result"
    }
   ],
   "source": [
    "dd.sum()"
   ]
  },
  {
   "cell_type": "markdown",
   "id": "af4e67de",
   "metadata": {},
   "source": [
    "# Creating matrices"
   ]
  },
  {
   "cell_type": "code",
   "execution_count": 96,
   "id": "ed29c463",
   "metadata": {},
   "outputs": [],
   "source": [
    "ar=np.array([[1,2,3],[4,5,6],[7,8,9]])"
   ]
  },
  {
   "cell_type": "code",
   "execution_count": 97,
   "id": "05a425e0",
   "metadata": {},
   "outputs": [
    {
     "data": {
      "text/plain": [
       "array([[1, 2, 3],\n",
       "       [4, 5, 6],\n",
       "       [7, 8, 9]])"
      ]
     },
     "execution_count": 97,
     "metadata": {},
     "output_type": "execute_result"
    }
   ],
   "source": [
    "ar"
   ]
  },
  {
   "cell_type": "code",
   "execution_count": 98,
   "id": "691e9909",
   "metadata": {},
   "outputs": [
    {
     "data": {
      "text/plain": [
       "2"
      ]
     },
     "execution_count": 98,
     "metadata": {},
     "output_type": "execute_result"
    }
   ],
   "source": [
    "ar[0,1]"
   ]
  },
  {
   "cell_type": "code",
   "execution_count": 99,
   "id": "7031c901",
   "metadata": {},
   "outputs": [
    {
     "data": {
      "text/plain": [
       "array([[4, 5, 6],\n",
       "       [7, 8, 9]])"
      ]
     },
     "execution_count": 99,
     "metadata": {},
     "output_type": "execute_result"
    }
   ],
   "source": [
    "ar[1:3]"
   ]
  },
  {
   "cell_type": "code",
   "execution_count": 100,
   "id": "fcf2870c",
   "metadata": {},
   "outputs": [
    {
     "data": {
      "text/plain": [
       "array([1, 4])"
      ]
     },
     "execution_count": 100,
     "metadata": {},
     "output_type": "execute_result"
    }
   ],
   "source": [
    "ar[0:2, 0]"
   ]
  },
  {
   "cell_type": "code",
   "execution_count": 101,
   "id": "8d4ac8b9",
   "metadata": {},
   "outputs": [
    {
     "data": {
      "text/plain": [
       "array([7, 8, 9])"
      ]
     },
     "execution_count": 101,
     "metadata": {},
     "output_type": "execute_result"
    }
   ],
   "source": [
    "ar.max(axis=0)"
   ]
  },
  {
   "cell_type": "code",
   "execution_count": 102,
   "id": "ca97c1a0",
   "metadata": {},
   "outputs": [
    {
     "data": {
      "text/plain": [
       "array([1, 4, 7])"
      ]
     },
     "execution_count": 102,
     "metadata": {},
     "output_type": "execute_result"
    }
   ],
   "source": [
    "ar.min(axis=1)"
   ]
  },
  {
   "cell_type": "code",
   "execution_count": 103,
   "id": "dcf5f9e9",
   "metadata": {},
   "outputs": [
    {
     "data": {
      "text/plain": [
       "45"
      ]
     },
     "execution_count": 103,
     "metadata": {},
     "output_type": "execute_result"
    }
   ],
   "source": [
    "ar.sum()"
   ]
  },
  {
   "cell_type": "code",
   "execution_count": 104,
   "id": "1c01a8f7",
   "metadata": {},
   "outputs": [
    {
     "data": {
      "text/plain": [
       "array([[1, 2, 3],\n",
       "       [4, 5, 6],\n",
       "       [7, 8, 9]])"
      ]
     },
     "execution_count": 104,
     "metadata": {},
     "output_type": "execute_result"
    }
   ],
   "source": [
    "ar"
   ]
  },
  {
   "cell_type": "code",
   "execution_count": 105,
   "id": "556fc8d9",
   "metadata": {},
   "outputs": [],
   "source": [
    "a=np.array([[1,2,4],[4,3,6],[5,8,9]])"
   ]
  },
  {
   "cell_type": "code",
   "execution_count": 106,
   "id": "3e666120",
   "metadata": {},
   "outputs": [
    {
     "data": {
      "text/plain": [
       "array([[1, 2, 4],\n",
       "       [4, 3, 6],\n",
       "       [5, 8, 9]])"
      ]
     },
     "execution_count": 106,
     "metadata": {},
     "output_type": "execute_result"
    }
   ],
   "source": [
    "a"
   ]
  },
  {
   "cell_type": "code",
   "execution_count": 107,
   "id": "81ae18e3",
   "metadata": {},
   "outputs": [
    {
     "data": {
      "text/plain": [
       "array([[ 2,  4,  7],\n",
       "       [ 8,  8, 12],\n",
       "       [12, 16, 18]])"
      ]
     },
     "execution_count": 107,
     "metadata": {},
     "output_type": "execute_result"
    }
   ],
   "source": [
    "ar+a"
   ]
  },
  {
   "cell_type": "code",
   "execution_count": 108,
   "id": "620a7f49",
   "metadata": {},
   "outputs": [
    {
     "data": {
      "text/plain": [
       "array([[ 1,  4, 12],\n",
       "       [16, 15, 36],\n",
       "       [35, 64, 81]])"
      ]
     },
     "execution_count": 108,
     "metadata": {},
     "output_type": "execute_result"
    }
   ],
   "source": [
    "ar*a"
   ]
  },
  {
   "cell_type": "code",
   "execution_count": 109,
   "id": "b9010982",
   "metadata": {},
   "outputs": [
    {
     "data": {
      "text/plain": [
       "array([[ 0,  0, -1],\n",
       "       [ 0,  2,  0],\n",
       "       [ 2,  0,  0]])"
      ]
     },
     "execution_count": 109,
     "metadata": {},
     "output_type": "execute_result"
    }
   ],
   "source": [
    "ar-a"
   ]
  },
  {
   "cell_type": "code",
   "execution_count": 110,
   "id": "cedd9b89",
   "metadata": {},
   "outputs": [
    {
     "data": {
      "text/plain": [
       "array([[[1., 1.],\n",
       "        [1., 1.],\n",
       "        [1., 1.]],\n",
       "\n",
       "       [[1., 1.],\n",
       "        [1., 1.],\n",
       "        [1., 1.]],\n",
       "\n",
       "       [[1., 1.],\n",
       "        [1., 1.],\n",
       "        [1., 1.]],\n",
       "\n",
       "       [[1., 1.],\n",
       "        [1., 1.],\n",
       "        [1., 1.]]])"
      ]
     },
     "execution_count": 110,
     "metadata": {},
     "output_type": "execute_result"
    }
   ],
   "source": [
    "np.ones((4,3,2))"
   ]
  },
  {
   "cell_type": "code",
   "execution_count": 111,
   "id": "673ac201",
   "metadata": {},
   "outputs": [
    {
     "data": {
      "text/plain": [
       "array([1., 1., 1., 1., 1.])"
      ]
     },
     "execution_count": 111,
     "metadata": {},
     "output_type": "execute_result"
    }
   ],
   "source": [
    "np.ones(5)"
   ]
  },
  {
   "cell_type": "code",
   "execution_count": 112,
   "id": "70456f4f",
   "metadata": {},
   "outputs": [
    {
     "data": {
      "text/plain": [
       "array([0., 0., 0., 0., 0., 0., 0.])"
      ]
     },
     "execution_count": 112,
     "metadata": {},
     "output_type": "execute_result"
    }
   ],
   "source": [
    "np.zeros(7)"
   ]
  },
  {
   "cell_type": "code",
   "execution_count": 113,
   "id": "149aa03e",
   "metadata": {},
   "outputs": [],
   "source": [
    "rng=np.random.default_rng(0)"
   ]
  },
  {
   "cell_type": "code",
   "execution_count": 114,
   "id": "06d34afe",
   "metadata": {},
   "outputs": [
    {
     "data": {
      "text/plain": [
       "array([0.63696169, 0.26978671, 0.04097352, 0.01652764])"
      ]
     },
     "execution_count": 114,
     "metadata": {},
     "output_type": "execute_result"
    }
   ],
   "source": [
    "rng.random(4)"
   ]
  },
  {
   "cell_type": "code",
   "execution_count": 115,
   "id": "eb012f83",
   "metadata": {},
   "outputs": [
    {
     "data": {
      "text/plain": [
       "array([[1., 1., 1., 1.],\n",
       "       [1., 1., 1., 1.]])"
      ]
     },
     "execution_count": 115,
     "metadata": {},
     "output_type": "execute_result"
    }
   ],
   "source": [
    "np.ones((2,4))"
   ]
  },
  {
   "cell_type": "code",
   "execution_count": 116,
   "id": "3a95aedd",
   "metadata": {},
   "outputs": [
    {
     "data": {
      "text/plain": [
       "array([[0., 0., 0.],\n",
       "       [0., 0., 0.]])"
      ]
     },
     "execution_count": 116,
     "metadata": {},
     "output_type": "execute_result"
    }
   ],
   "source": [
    "np.zeros((2,3))"
   ]
  },
  {
   "cell_type": "code",
   "execution_count": 117,
   "id": "b1a721f4",
   "metadata": {},
   "outputs": [
    {
     "data": {
      "text/plain": [
       "array([[0.81327024, 0.91275558],\n",
       "       [0.60663578, 0.72949656],\n",
       "       [0.54362499, 0.93507242],\n",
       "       [0.81585355, 0.0027385 ]])"
      ]
     },
     "execution_count": 117,
     "metadata": {},
     "output_type": "execute_result"
    }
   ],
   "source": [
    "rng.random((4,2))"
   ]
  },
  {
   "cell_type": "code",
   "execution_count": 118,
   "id": "9a54b782",
   "metadata": {},
   "outputs": [
    {
     "data": {
      "text/plain": [
       "array([[1, 4, 2, 0],\n",
       "       [3, 3, 4, 0]], dtype=int64)"
      ]
     },
     "execution_count": 118,
     "metadata": {},
     "output_type": "execute_result"
    }
   ],
   "source": [
    "rng.integers(5, size=(2,4))"
   ]
  },
  {
   "cell_type": "markdown",
   "id": "4d2a32a2",
   "metadata": {},
   "source": [
    "# getting unique items and counts"
   ]
  },
  {
   "cell_type": "code",
   "execution_count": 119,
   "id": "6e821fa2",
   "metadata": {},
   "outputs": [],
   "source": [
    "a=np.array([1,1,2,2,3,4,5,6,5,7,8,6,9])"
   ]
  },
  {
   "cell_type": "code",
   "execution_count": 120,
   "id": "419ad484",
   "metadata": {},
   "outputs": [
    {
     "data": {
      "text/plain": [
       "array([1, 1, 2, 2, 3, 4, 5, 6, 5, 7, 8, 6, 9])"
      ]
     },
     "execution_count": 120,
     "metadata": {},
     "output_type": "execute_result"
    }
   ],
   "source": [
    "a"
   ]
  },
  {
   "cell_type": "code",
   "execution_count": 121,
   "id": "f556f532",
   "metadata": {},
   "outputs": [],
   "source": [
    "uni=np.unique(a)"
   ]
  },
  {
   "cell_type": "code",
   "execution_count": 122,
   "id": "61602ad8",
   "metadata": {},
   "outputs": [
    {
     "name": "stdout",
     "output_type": "stream",
     "text": [
      "[1 2 3 4 5 6 7 8 9]\n"
     ]
    }
   ],
   "source": [
    "print(uni)"
   ]
  },
  {
   "cell_type": "code",
   "execution_count": 123,
   "id": "2a3d1f75",
   "metadata": {},
   "outputs": [],
   "source": [
    "uni,ind_list=np.unique(a, return_index=True)"
   ]
  },
  {
   "cell_type": "code",
   "execution_count": 124,
   "id": "2a25558f",
   "metadata": {},
   "outputs": [
    {
     "name": "stdout",
     "output_type": "stream",
     "text": [
      "[ 0  2  4  5  6  7  9 10 12]\n"
     ]
    }
   ],
   "source": [
    "print(ind_list)"
   ]
  },
  {
   "cell_type": "code",
   "execution_count": 125,
   "id": "04223649",
   "metadata": {},
   "outputs": [],
   "source": [
    "uni,occ_count=np.unique(a,return_counts=True)"
   ]
  },
  {
   "cell_type": "code",
   "execution_count": 126,
   "id": "2e70814b",
   "metadata": {},
   "outputs": [
    {
     "name": "stdout",
     "output_type": "stream",
     "text": [
      "[2 2 1 1 2 2 1 1 1]\n"
     ]
    }
   ],
   "source": [
    "print(occ_count)"
   ]
  },
  {
   "cell_type": "code",
   "execution_count": 127,
   "id": "a07a6458",
   "metadata": {},
   "outputs": [
    {
     "data": {
      "text/plain": [
       "array([[1, 2, 3],\n",
       "       [4, 5, 6],\n",
       "       [7, 8, 9]])"
      ]
     },
     "execution_count": 127,
     "metadata": {},
     "output_type": "execute_result"
    }
   ],
   "source": [
    "ar"
   ]
  },
  {
   "cell_type": "code",
   "execution_count": 128,
   "id": "75319288",
   "metadata": {},
   "outputs": [],
   "source": [
    "uni=np.unique(ar)"
   ]
  },
  {
   "cell_type": "code",
   "execution_count": 129,
   "id": "418e1908",
   "metadata": {},
   "outputs": [
    {
     "name": "stdout",
     "output_type": "stream",
     "text": [
      "[1 2 3 4 5 6 7 8 9]\n"
     ]
    }
   ],
   "source": [
    "print(uni)"
   ]
  },
  {
   "cell_type": "code",
   "execution_count": 130,
   "id": "f18240a1",
   "metadata": {},
   "outputs": [],
   "source": [
    "uni_rows=np.unique(ar,axis=0)"
   ]
  },
  {
   "cell_type": "code",
   "execution_count": 131,
   "id": "9c327515",
   "metadata": {},
   "outputs": [
    {
     "name": "stdout",
     "output_type": "stream",
     "text": [
      "[[1 2 3]\n",
      " [4 5 6]\n",
      " [7 8 9]]\n"
     ]
    }
   ],
   "source": [
    "print(uni_rows)"
   ]
  },
  {
   "cell_type": "code",
   "execution_count": 132,
   "id": "5ce1f77f",
   "metadata": {},
   "outputs": [],
   "source": [
    "uni_rows,ind,occ_count=np.unique(ar,axis=0,return_counts=True,return_index=True)"
   ]
  },
  {
   "cell_type": "code",
   "execution_count": 133,
   "id": "c33378dc",
   "metadata": {},
   "outputs": [
    {
     "name": "stdout",
     "output_type": "stream",
     "text": [
      "[[1 2 3]\n",
      " [4 5 6]\n",
      " [7 8 9]]\n"
     ]
    }
   ],
   "source": [
    "print(uni_rows)"
   ]
  },
  {
   "cell_type": "code",
   "execution_count": 134,
   "id": "a9f22006",
   "metadata": {},
   "outputs": [
    {
     "name": "stdout",
     "output_type": "stream",
     "text": [
      "[0 1 2]\n"
     ]
    }
   ],
   "source": [
    "print(ind)"
   ]
  },
  {
   "cell_type": "code",
   "execution_count": 135,
   "id": "e5800e8a",
   "metadata": {},
   "outputs": [
    {
     "name": "stdout",
     "output_type": "stream",
     "text": [
      "[1 1 1]\n"
     ]
    }
   ],
   "source": [
    "print(occ_count)"
   ]
  },
  {
   "cell_type": "markdown",
   "id": "d4dfd817",
   "metadata": {},
   "source": [
    "# Transposing and reshaping"
   ]
  },
  {
   "cell_type": "code",
   "execution_count": 136,
   "id": "e94f2b96",
   "metadata": {},
   "outputs": [],
   "source": [
    "ar=np.array([[1,2,3],[6,7,8],[2,3,6]])"
   ]
  },
  {
   "cell_type": "code",
   "execution_count": 137,
   "id": "e8348815",
   "metadata": {},
   "outputs": [
    {
     "data": {
      "text/plain": [
       "array([[1, 2, 3],\n",
       "       [6, 7, 8],\n",
       "       [2, 3, 6]])"
      ]
     },
     "execution_count": 137,
     "metadata": {},
     "output_type": "execute_result"
    }
   ],
   "source": [
    "ar"
   ]
  },
  {
   "cell_type": "code",
   "execution_count": 138,
   "id": "95a4ed78",
   "metadata": {},
   "outputs": [
    {
     "data": {
      "text/plain": [
       "array([[1, 6, 2],\n",
       "       [2, 7, 3],\n",
       "       [3, 8, 6]])"
      ]
     },
     "execution_count": 138,
     "metadata": {},
     "output_type": "execute_result"
    }
   ],
   "source": [
    "ar.T"
   ]
  },
  {
   "cell_type": "code",
   "execution_count": 139,
   "id": "df50f07b",
   "metadata": {},
   "outputs": [],
   "source": [
    "dd=np.array([[1,2],[3,4],[5,6]])"
   ]
  },
  {
   "cell_type": "code",
   "execution_count": 140,
   "id": "10849ec2",
   "metadata": {},
   "outputs": [
    {
     "data": {
      "text/plain": [
       "array([[1, 2],\n",
       "       [3, 4],\n",
       "       [5, 6]])"
      ]
     },
     "execution_count": 140,
     "metadata": {},
     "output_type": "execute_result"
    }
   ],
   "source": [
    "dd"
   ]
  },
  {
   "cell_type": "code",
   "execution_count": 141,
   "id": "d6e225ee",
   "metadata": {},
   "outputs": [
    {
     "data": {
      "text/plain": [
       "array([[1, 2, 3],\n",
       "       [4, 5, 6]])"
      ]
     },
     "execution_count": 141,
     "metadata": {},
     "output_type": "execute_result"
    }
   ],
   "source": [
    "dd.reshape(2,3)"
   ]
  },
  {
   "cell_type": "code",
   "execution_count": 142,
   "id": "7391ad40",
   "metadata": {},
   "outputs": [
    {
     "data": {
      "text/plain": [
       "array([[1, 2],\n",
       "       [3, 4],\n",
       "       [5, 6]])"
      ]
     },
     "execution_count": 142,
     "metadata": {},
     "output_type": "execute_result"
    }
   ],
   "source": [
    "dd.reshape(3,2)"
   ]
  },
  {
   "cell_type": "code",
   "execution_count": 143,
   "id": "4fe57437",
   "metadata": {},
   "outputs": [
    {
     "data": {
      "text/plain": [
       "array([[1, 6, 2],\n",
       "       [2, 7, 3],\n",
       "       [3, 8, 6]])"
      ]
     },
     "execution_count": 143,
     "metadata": {},
     "output_type": "execute_result"
    }
   ],
   "source": [
    "ar.transpose()"
   ]
  },
  {
   "cell_type": "markdown",
   "id": "320ee818",
   "metadata": {},
   "source": [
    "# reverse an array"
   ]
  },
  {
   "cell_type": "code",
   "execution_count": 144,
   "id": "c5adb794",
   "metadata": {},
   "outputs": [],
   "source": [
    "arr=np.array([1,2,3,4,5,6,7])"
   ]
  },
  {
   "cell_type": "code",
   "execution_count": 145,
   "id": "b0593ae1",
   "metadata": {},
   "outputs": [
    {
     "data": {
      "text/plain": [
       "array([1, 2, 3, 4, 5, 6, 7])"
      ]
     },
     "execution_count": 145,
     "metadata": {},
     "output_type": "execute_result"
    }
   ],
   "source": [
    "arr"
   ]
  },
  {
   "cell_type": "code",
   "execution_count": 146,
   "id": "f51a48f8",
   "metadata": {},
   "outputs": [],
   "source": [
    "reversed_arr=np.flip(arr)"
   ]
  },
  {
   "cell_type": "code",
   "execution_count": 147,
   "id": "f7c27e0d",
   "metadata": {},
   "outputs": [
    {
     "name": "stdout",
     "output_type": "stream",
     "text": [
      "Reversed Array:  [7 6 5 4 3 2 1]\n"
     ]
    }
   ],
   "source": [
    "print('Reversed Array: ',reversed_arr)"
   ]
  },
  {
   "cell_type": "code",
   "execution_count": 148,
   "id": "5ed7b1d4",
   "metadata": {},
   "outputs": [
    {
     "data": {
      "text/plain": [
       "array([[1, 2, 3],\n",
       "       [6, 7, 8],\n",
       "       [2, 3, 6]])"
      ]
     },
     "execution_count": 148,
     "metadata": {},
     "output_type": "execute_result"
    }
   ],
   "source": [
    "ar"
   ]
  },
  {
   "cell_type": "code",
   "execution_count": 149,
   "id": "34c455ed",
   "metadata": {},
   "outputs": [],
   "source": [
    "reversed_arr=np.flip(ar)"
   ]
  },
  {
   "cell_type": "code",
   "execution_count": 150,
   "id": "b6db6308",
   "metadata": {},
   "outputs": [
    {
     "name": "stdout",
     "output_type": "stream",
     "text": [
      "[[6 3 2]\n",
      " [8 7 6]\n",
      " [3 2 1]]\n"
     ]
    }
   ],
   "source": [
    "print(reversed_arr)"
   ]
  },
  {
   "cell_type": "code",
   "execution_count": 151,
   "id": "88ae4a05",
   "metadata": {},
   "outputs": [],
   "source": [
    "reversed_arr_rows=np.flip(ar,axis=0)"
   ]
  },
  {
   "cell_type": "code",
   "execution_count": 152,
   "id": "df65f355",
   "metadata": {},
   "outputs": [
    {
     "name": "stdout",
     "output_type": "stream",
     "text": [
      "[[2 3 6]\n",
      " [6 7 8]\n",
      " [1 2 3]]\n"
     ]
    }
   ],
   "source": [
    "print(reversed_arr_rows)"
   ]
  },
  {
   "cell_type": "code",
   "execution_count": 153,
   "id": "bdb671c1",
   "metadata": {},
   "outputs": [],
   "source": [
    "reversed_arr_columns=np.flip(ar,axis=1)"
   ]
  },
  {
   "cell_type": "code",
   "execution_count": 154,
   "id": "1c34ccfd",
   "metadata": {},
   "outputs": [
    {
     "name": "stdout",
     "output_type": "stream",
     "text": [
      "[[3 2 1]\n",
      " [8 7 6]\n",
      " [6 3 2]]\n"
     ]
    }
   ],
   "source": [
    "print(reversed_arr_columns)"
   ]
  },
  {
   "cell_type": "code",
   "execution_count": 155,
   "id": "9e8fae14",
   "metadata": {},
   "outputs": [],
   "source": [
    "ar[1]=np.flip(ar[1])"
   ]
  },
  {
   "cell_type": "code",
   "execution_count": 156,
   "id": "ee90388a",
   "metadata": {},
   "outputs": [
    {
     "name": "stdout",
     "output_type": "stream",
     "text": [
      "[[1 2 3]\n",
      " [8 7 6]\n",
      " [2 3 6]]\n"
     ]
    }
   ],
   "source": [
    "print(ar)"
   ]
  },
  {
   "cell_type": "code",
   "execution_count": 157,
   "id": "19d29997",
   "metadata": {},
   "outputs": [],
   "source": [
    "ar[:,1]=np.flip(ar[:,1])"
   ]
  },
  {
   "cell_type": "code",
   "execution_count": 158,
   "id": "fa275081",
   "metadata": {},
   "outputs": [
    {
     "name": "stdout",
     "output_type": "stream",
     "text": [
      "[[1 3 3]\n",
      " [8 7 6]\n",
      " [2 2 6]]\n"
     ]
    }
   ],
   "source": [
    "print(ar)"
   ]
  },
  {
   "cell_type": "markdown",
   "id": "1b3656d9",
   "metadata": {},
   "source": [
    "# reshaping and flattening multidimensional arrays"
   ]
  },
  {
   "cell_type": "code",
   "execution_count": 159,
   "id": "baeacc5c",
   "metadata": {},
   "outputs": [],
   "source": [
    "x=np.array([[1,2,3],[4,5,6],[7,8,9]])"
   ]
  },
  {
   "cell_type": "code",
   "execution_count": 160,
   "id": "d431d0f8",
   "metadata": {},
   "outputs": [
    {
     "data": {
      "text/plain": [
       "array([1, 2, 3, 4, 5, 6, 7, 8, 9])"
      ]
     },
     "execution_count": 160,
     "metadata": {},
     "output_type": "execute_result"
    }
   ],
   "source": [
    "x.flatten()"
   ]
  },
  {
   "cell_type": "code",
   "execution_count": 161,
   "id": "1c19d8f1",
   "metadata": {},
   "outputs": [],
   "source": [
    "a1=x.flatten()"
   ]
  },
  {
   "cell_type": "code",
   "execution_count": 165,
   "id": "fd68f863",
   "metadata": {},
   "outputs": [],
   "source": [
    "a1[0]=85"
   ]
  },
  {
   "cell_type": "code",
   "execution_count": 166,
   "id": "ebc3c8a9",
   "metadata": {},
   "outputs": [
    {
     "name": "stdout",
     "output_type": "stream",
     "text": [
      "[[1 2 3]\n",
      " [4 5 6]\n",
      " [7 8 9]]\n"
     ]
    }
   ],
   "source": [
    "print(x)"
   ]
  },
  {
   "cell_type": "code",
   "execution_count": 167,
   "id": "63e5b35d",
   "metadata": {},
   "outputs": [
    {
     "name": "stdout",
     "output_type": "stream",
     "text": [
      "[85  2  3  4  5  6  7  8  9]\n"
     ]
    }
   ],
   "source": [
    "print(a1)"
   ]
  },
  {
   "cell_type": "code",
   "execution_count": 168,
   "id": "f5b13cec",
   "metadata": {},
   "outputs": [],
   "source": [
    "a2=x.ravel()"
   ]
  },
  {
   "cell_type": "code",
   "execution_count": 169,
   "id": "ae998efb",
   "metadata": {},
   "outputs": [],
   "source": [
    "a2[0]=70"
   ]
  },
  {
   "cell_type": "code",
   "execution_count": 170,
   "id": "b7811d42",
   "metadata": {},
   "outputs": [
    {
     "name": "stdout",
     "output_type": "stream",
     "text": [
      "[[70  2  3]\n",
      " [ 4  5  6]\n",
      " [ 7  8  9]]\n"
     ]
    }
   ],
   "source": [
    "print(x)"
   ]
  },
  {
   "cell_type": "code",
   "execution_count": 171,
   "id": "35d284be",
   "metadata": {},
   "outputs": [
    {
     "name": "stdout",
     "output_type": "stream",
     "text": [
      "[70  2  3  4  5  6  7  8  9]\n"
     ]
    }
   ],
   "source": [
    "print(a2)"
   ]
  }
 ],
 "metadata": {
  "kernelspec": {
   "display_name": "Python 3 (ipykernel)",
   "language": "python",
   "name": "python3"
  },
  "language_info": {
   "codemirror_mode": {
    "name": "ipython",
    "version": 3
   },
   "file_extension": ".py",
   "mimetype": "text/x-python",
   "name": "python",
   "nbconvert_exporter": "python",
   "pygments_lexer": "ipython3",
   "version": "3.8.12"
  }
 },
 "nbformat": 4,
 "nbformat_minor": 5
}
