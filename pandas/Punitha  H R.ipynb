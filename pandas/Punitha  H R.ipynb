{
 "cells": [
  {
   "cell_type": "code",
   "execution_count": 1,
   "id": "bab2f9f8",
   "metadata": {},
   "outputs": [],
   "source": [
    "# importing pandas library\n",
    "import pandas as pd"
   ]
  },
  {
   "cell_type": "code",
   "execution_count": 2,
   "id": "a4d00391",
   "metadata": {},
   "outputs": [
    {
     "name": "stdout",
     "output_type": "stream",
     "text": [
      "0    1\n",
      "1    5\n",
      "2    3\n",
      "dtype: int64\n"
     ]
    }
   ],
   "source": [
    "# Create a simple Pandas Series from a list:\n",
    "import pandas as pd\n",
    "\n",
    "a = [1, 5, 3]\n",
    "\n",
    "myvar = pd.Series(a)\n",
    "\n",
    "print(myvar)\n",
    "\n"
   ]
  },
  {
   "cell_type": "markdown",
   "id": "cbea2425",
   "metadata": {},
   "source": [
    "# create an empty series"
   ]
  },
  {
   "cell_type": "code",
   "execution_count": 8,
   "id": "c7948f2d",
   "metadata": {},
   "outputs": [
    {
     "name": "stdout",
     "output_type": "stream",
     "text": [
      "Series([], dtype: float64)\n"
     ]
    },
    {
     "name": "stderr",
     "output_type": "stream",
     "text": [
      "<ipython-input-8-b7a9e22564c7>:3: DeprecationWarning: The default dtype for empty Series will be 'object' instead of 'float64' in a future version. Specify a dtype explicitly to silence this warning.\n",
      "  s = pd.Series()\n"
     ]
    }
   ],
   "source": [
    "#import the pandas library and aliasing as pd\n",
    "import pandas as pd\n",
    "s = pd.Series()\n",
    "print (s)\n",
    "\n"
   ]
  },
  {
   "cell_type": "markdown",
   "id": "1374927e",
   "metadata": {},
   "source": [
    "# Create a Series from ndarray\n"
   ]
  },
  {
   "cell_type": "code",
   "execution_count": 7,
   "id": "3b19d209",
   "metadata": {},
   "outputs": [
    {
     "name": "stdout",
     "output_type": "stream",
     "text": [
      "0    apple\n",
      "1     ball\n",
      "2      cat\n",
      "3      dog\n",
      "dtype: object\n"
     ]
    }
   ],
   "source": [
    "#import the pandas library and aliasing as pd\n",
    "import pandas as pd\n",
    "import numpy as np\n",
    "data = np.array(['apple','ball','cat','dog'])\n",
    "s = pd.Series(data)\n",
    "print (s)\n"
   ]
  },
  {
   "cell_type": "markdown",
   "id": "ba8cef61",
   "metadata": {},
   "source": [
    "# Create a Series from dict"
   ]
  },
  {
   "cell_type": "code",
   "execution_count": 10,
   "id": "fedcd492",
   "metadata": {},
   "outputs": [
    {
     "name": "stdout",
     "output_type": "stream",
     "text": [
      "a      america\n",
      "b       africa\n",
      "c    australia\n",
      "dtype: object\n"
     ]
    }
   ],
   "source": [
    "#import the pandas library and aliasing as pd\n",
    "import pandas as pd\n",
    "import numpy as np\n",
    "data = {'a' : 'america', 'b' : 'africa', 'c' : 'australia'}\n",
    "s = pd.Series(data)\n",
    "print (s)\n"
   ]
  },
  {
   "cell_type": "markdown",
   "id": "a5aa111d",
   "metadata": {},
   "source": [
    "# Create a Series from Scalar"
   ]
  },
  {
   "cell_type": "code",
   "execution_count": 11,
   "id": "d0ca28bc",
   "metadata": {},
   "outputs": [
    {
     "name": "stdout",
     "output_type": "stream",
     "text": [
      "0    5\n",
      "1    5\n",
      "2    5\n",
      "3    5\n",
      "dtype: int64\n"
     ]
    }
   ],
   "source": [
    "#import the pandas library and aliasing as pd\n",
    "import pandas as pd\n",
    "import numpy as np\n",
    "s = pd.Series(5, index=[0, 1, 2, 3])\n",
    "print (s)"
   ]
  },
  {
   "cell_type": "markdown",
   "id": "ec517c09",
   "metadata": {},
   "source": [
    "# Accessing Data from Series with Position"
   ]
  },
  {
   "cell_type": "code",
   "execution_count": 14,
   "id": "a5e8432a",
   "metadata": {},
   "outputs": [
    {
     "name": "stdout",
     "output_type": "stream",
     "text": [
      "c    3\n",
      "d    4\n",
      "e    5\n",
      "dtype: int64\n"
     ]
    }
   ],
   "source": [
    "import pandas as pd\n",
    "s = pd.Series([1,2,3,4,5],index = ['a','b','c','d','e'])\n",
    "\n",
    "#retrieve the last three element\n",
    "print (s[-3:])\n"
   ]
  },
  {
   "cell_type": "markdown",
   "id": "930cee24",
   "metadata": {},
   "source": [
    "# Retrieve Data Using Label (Index)"
   ]
  },
  {
   "cell_type": "code",
   "execution_count": 16,
   "id": "bc70a9a4",
   "metadata": {},
   "outputs": [
    {
     "name": "stdout",
     "output_type": "stream",
     "text": [
      "a    1\n",
      "c    3\n",
      "d    4\n",
      "dtype: int64\n"
     ]
    }
   ],
   "source": [
    "# Retrieve multiple elements using a list of index label values.\n",
    "import pandas as pd\n",
    "s = pd.Series([1,2,3,4,5],index = ['a','b','c','d','e'])\n",
    "\n",
    "#retrieve multiple elements\n",
    "print (s[['a','c','d']])"
   ]
  },
  {
   "cell_type": "markdown",
   "id": "83a877c6",
   "metadata": {},
   "source": [
    "# Indexing a Series using indexing operator [] :"
   ]
  },
  {
   "cell_type": "code",
   "execution_count": 21,
   "id": "0074d966",
   "metadata": {},
   "outputs": [
    {
     "data": {
      "text/plain": [
       "1968    10\n",
       "1969     7\n",
       "Name: George Songs, dtype: int64"
      ]
     },
     "execution_count": 21,
     "metadata": {},
     "output_type": "execute_result"
    }
   ],
   "source": [
    "import pandas as pd\n",
    "george = pd.Series([10, 7],\n",
    "    index=['1968', '1969'],\n",
    "    name='George Songs')\n",
    "george"
   ]
  },
  {
   "cell_type": "code",
   "execution_count": 22,
   "id": "a2305270",
   "metadata": {},
   "outputs": [
    {
     "data": {
      "text/plain": [
       "True"
      ]
     },
     "execution_count": 22,
     "metadata": {},
     "output_type": "execute_result"
    }
   ],
   "source": [
    "# .is_unique — This is a function that determines whether an index has duplicates.\n",
    "dupe = pd.Series([10, 20, 30], \n",
    "    index=['1', '2', '3'], \n",
    "    name='George Songs')\n",
    "dupe.index.is_unique\n",
    "george.index.is_unique"
   ]
  },
  {
   "cell_type": "code",
   "execution_count": 26,
   "id": "1df8d1bc",
   "metadata": {},
   "outputs": [
    {
     "data": {
      "text/plain": [
       "1970     1\n",
       "1970    22\n",
       "Name: George Songs, dtype: int64"
      ]
     },
     "execution_count": 26,
     "metadata": {},
     "output_type": "execute_result"
    }
   ],
   "source": [
    "# using loc\n",
    "george_dupe = pd.Series([10, 7, 1, 22], \n",
    "    index=['1968', '1969', '1970', '1970'], \n",
    "    name='George Songs')\n",
    "george_dupe.at['1970']\n",
    "george_dupe.loc['1970']"
   ]
  },
  {
   "cell_type": "code",
   "execution_count": 27,
   "id": "2be4a53f",
   "metadata": {},
   "outputs": [
    {
     "data": {
      "text/plain": [
       "1968    10\n",
       "1969     7\n",
       "Name: George Songs, dtype: int64"
      ]
     },
     "execution_count": 27,
     "metadata": {},
     "output_type": "execute_result"
    }
   ],
   "source": [
    "# using iloc\n",
    "george.iloc[0:3]\n",
    "george.iloc[[0,1]]\n",
    "# both statements above will give the same output"
   ]
  },
  {
   "cell_type": "markdown",
   "id": "b2c99a29",
   "metadata": {},
   "source": [
    "# Binary Operation on Series\n"
   ]
  },
  {
   "cell_type": "code",
   "execution_count": 28,
   "id": "3ca606ab",
   "metadata": {},
   "outputs": [
    {
     "name": "stdout",
     "output_type": "stream",
     "text": [
      "a    5\n",
      "b    2\n",
      "c    3\n",
      "d    7\n",
      "dtype: int64 \n",
      "\n",
      " a    1\n",
      "b    6\n",
      "d    4\n",
      "e    9\n",
      "dtype: int64\n"
     ]
    }
   ],
   "source": [
    "# We can perform binary operation on series like addition, subtraction and many other operation. In order to perform binary operation on series we have to use some function like .add(),.sub() etc..\n",
    "# importing pandas module  \n",
    "import pandas as pd  \n",
    " \n",
    "# creating a series\n",
    "data = pd.Series([5, 2, 3,7], index=['a', 'b', 'c', 'd'])\n",
    " \n",
    "# creating a series\n",
    "data1 = pd.Series([1, 6, 4, 9], index=['a', 'b', 'd', 'e'])\n",
    " \n",
    "print(data, \"\\n\\n\", data1)"
   ]
  },
  {
   "cell_type": "code",
   "execution_count": null,
   "id": "21b80f9b",
   "metadata": {},
   "outputs": [],
   "source": []
  }
 ],
 "metadata": {
  "kernelspec": {
   "display_name": "Python 3",
   "language": "python",
   "name": "python3"
  },
  "language_info": {
   "codemirror_mode": {
    "name": "ipython",
    "version": 3
   },
   "file_extension": ".py",
   "mimetype": "text/x-python",
   "name": "python",
   "nbconvert_exporter": "python",
   "pygments_lexer": "ipython3",
   "version": "3.8.8"
  }
 },
 "nbformat": 4,
 "nbformat_minor": 5
}
